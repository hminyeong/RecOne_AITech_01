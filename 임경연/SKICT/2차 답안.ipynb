{
 "cells": [
  {
   "cell_type": "code",
   "execution_count": 5,
   "metadata": {},
   "outputs": [],
   "source": [
    "def solution(a, b, m):\n",
    "    a_space = [[0] * (len(a) + 1) for _ in range(len(a) + 1)]\n",
    "    b_space = [[0] * (len(a) + 1) for _ in range(len(a) + 1)]\n",
    "\n",
    "    for i in range(len(a)):\n",
    "        x, y = a[i]\n",
    "        a_space[x-1][y-1] = 1\n",
    "        a_space[y-1][x-1] = 1\n",
    "    \n",
    "    for i in range(len(b)):\n",
    "        x, y = b[i]\n",
    "        b_space[x-1][y-1] = 1\n",
    "        b_space[y-1][x-1] = 1\n",
    "    \n",
    "    while True:\n",
    "        if m != 0:\n",
    "            diff = []\n",
    "            for i in range(len(a_space)):\n",
    "                s = 0\n",
    "                for j in range(len(a_space)):\n",
    "                    s += abs(a_space[i][j] - b_space[i][j])\n",
    "                diff.append(s)\n",
    "            \n",
    "            min_value = sum(diff)\n",
    "            x, y = 0, 0\n",
    "            for i in range(len(a_space)):\n",
    "                for j in range(len(b_space)):\n",
    "                    if i >= j:\n",
    "                        continue\n",
    "                    else:\n",
    "                        s = 0\n",
    "                        for k in range(len(a_space)):\n",
    "                            s += abs(a_space[i][k] - b_space[j][k])\n",
    "                            s += abs(a_space[j][k] - b_space[i][k])\n",
    "                    c_value = sum(diff) - diff[i] - diff[j] + s\n",
    "                    if c_value < min_value:\n",
    "                        min_value = c_value\n",
    "                        x, y = i, j\n",
    "            if (x, y) != (0, 0):\n",
    "                b_space[i], b_space[j] = b_space[j], b_space[i]\n",
    "                m -= 1\n",
    "            else:\n",
    "                m = 0\n",
    "\n",
    "        else:\n",
    "            diff = 0\n",
    "            for i in range(len(a_space)):\n",
    "                for j in range(len(a_space)):\n",
    "                    diff += abs(a_space[i][j] - b_space[i][j])\n",
    "\n",
    "            answer = diff / 2\n",
    "\n",
    "\n",
    "\n",
    "    return answer"
   ]
  },
  {
   "cell_type": "code",
   "execution_count": 2,
   "metadata": {},
   "outputs": [],
   "source": [
    "a = [[1, 2], [2, 3]]\n",
    "b = [[1, 3], [3, 2]]\t\n",
    "m = 1"
   ]
  },
  {
   "cell_type": "code",
   "execution_count": 6,
   "metadata": {},
   "outputs": [],
   "source": [
    "solution(a, b, m)"
   ]
  },
  {
   "cell_type": "code",
   "execution_count": 1,
   "metadata": {},
   "outputs": [],
   "source": [
    "def solution(goods):\n",
    "    result = []\n",
    "    for i in goods:\n",
    "        length = len(i)\n",
    "        for j in range(1, len(i)):\n",
    "            answer = []\n",
    "            for k in range(length - j):\n",
    "                token = 0\n",
    "                for l in goods:\n",
    "                    if i == l:\n",
    "                        continue\n",
    "                    else:\n",
    "                        if i[k:k+j] in l:\n",
    "                            token = 1\n",
    "                            break  \n",
    "                if token == 0:\n",
    "                    answer.append(i[k:k+j])\n",
    "            if answer:\n",
    "                result.append(\" \".join(answer))\n",
    "                break\n",
    "    return answer"
   ]
  },
  {
   "cell_type": "code",
   "execution_count": 2,
   "metadata": {},
   "outputs": [],
   "source": [
    "goods = [\"pencil\",\"cilicon\",\"contrabase\",\"picturelist\"]\t"
   ]
  },
  {
   "cell_type": "code",
   "execution_count": 3,
   "metadata": {},
   "outputs": [
    {
     "data": {
      "text/plain": [
       "['u']"
      ]
     },
     "execution_count": 3,
     "metadata": {},
     "output_type": "execute_result"
    }
   ],
   "source": [
    "solution(goods)"
   ]
  },
  {
   "cell_type": "code",
   "execution_count": null,
   "metadata": {},
   "outputs": [],
   "source": [
    "import re\n",
    "\n",
    "\n",
    "def solution(goods):\n",
    "    result = []\n",
    "    for i in goods:\n",
    "        length = len(i)\n",
    "        a = len(result)\n",
    "        for j in range(1, len(i) + 1):\n",
    "            answer = []\n",
    "            for k in range(length - j + 1):\n",
    "                token = 0\n",
    "                for l in goods:\n",
    "                    if i == l:\n",
    "                        continue\n",
    "                    else:\n",
    "                        if i[k:k+j] in l:\n",
    "                            token = 1\n",
    "                            break  \n",
    "                if token == 0:\n",
    "                    answer.append(i[k:k+j])\n",
    "            if answer:\n",
    "                answer = list(set(answer))\n",
    "                answer.sort()\n",
    "                result.append(\" \".join(answer))\n",
    "                break\n",
    "        if a == len(result):\n",
    "            result.append('None')\n",
    "    return result\n",
    "    "
   ]
  },
  {
   "cell_type": "code",
   "execution_count": null,
   "metadata": {},
   "outputs": [],
   "source": []
  },
  {
   "cell_type": "code",
   "execution_count": null,
   "metadata": {},
   "outputs": [],
   "source": [
    "def solution(a, b, m):\n",
    "    a_space = [[0] * (len(a) + 1) for _ in range(len(a) + 1)]\n",
    "    b_space = [[0] * (len(a) + 1) for _ in range(len(a) + 1)]\n",
    "\n",
    "    for i in range(len(a)):\n",
    "        x, y = a[i]\n",
    "        a_space[x-1][y-1] = 1\n",
    "        a_space[y-1][x-1] = 1\n",
    "    \n",
    "    for i in range(len(b)):\n",
    "        x, y = b[i]\n",
    "        b_space[x-1][y-1] = 1\n",
    "        b_space[y-1][x-1] = 1\n",
    "    \n",
    "    while True:\n",
    "        if m != 0:\n",
    "            diff = []\n",
    "            for i in range(len(a_space)):\n",
    "                s = 0\n",
    "                for j in range(len(a_space)):\n",
    "                    s += abs(a_space[i][j] - b_space[i][j])\n",
    "                diff.append(s)\n",
    "            \n",
    "            min_value = sum(diff)\n",
    "            x, y = 0, 0\n",
    "            for i in range(len(a_space)):\n",
    "                for j in range(len(b_space)):\n",
    "                    if i >= j:\n",
    "                        continue\n",
    "                    else:\n",
    "                        s = 0\n",
    "                        for k in range(len(a_space)):\n",
    "                            if k == i:\n",
    "                                s += abs(a_space[i][k] - b_space[j][j])\n",
    "                                s += abs(a_space[j][k] - b_space[i][j])\n",
    "                            elif k == j:\n",
    "                                s += abs(a_space[i][k] - b_space[j][i])\n",
    "                                s += abs(a_space[j][k] - b_space[i][i])\n",
    "                            else:\n",
    "                                s += abs(a_space[i][k] - b_space[j][k])\n",
    "                                s += abs(a_space[j][k] - b_space[i][k])\n",
    "                    c_value = sum(diff) - diff[i] - diff[j] + s\n",
    "                    if c_value < min_value:\n",
    "                        min_value = c_value\n",
    "                        x, y = i, j\n",
    "            if (x, y) != (0, 0):\n",
    "                b_space[x], b_space[y] = b_space[y], b_space[x]\n",
    "                for i in range(len(b_space)):\n",
    "                    b_space[i][x], b_space[i][y] = b_space[i][y], b_space[i][x] \n",
    "                m -= 1\n",
    "            else:\n",
    "                m = 0\n",
    "\n",
    "        else:\n",
    "            diff = 0\n",
    "            for i in range(len(a_space)):\n",
    "                for j in range(len(a_space)):\n",
    "                    diff += abs(a_space[i][j] - b_space[i][j])\n",
    "\n",
    "            answer = diff / 4\n",
    "            break\n",
    "\n",
    "\n",
    "\n",
    "    return answer"
   ]
  },
  {
   "cell_type": "code",
   "execution_count": 4,
   "metadata": {},
   "outputs": [],
   "source": [
    "a = (1,2)"
   ]
  },
  {
   "cell_type": "code",
   "execution_count": 5,
   "metadata": {},
   "outputs": [
    {
     "data": {
      "text/plain": [
       "[1, 2]"
      ]
     },
     "execution_count": 5,
     "metadata": {},
     "output_type": "execute_result"
    }
   ],
   "source": [
    "list(a)"
   ]
  },
  {
   "cell_type": "code",
   "execution_count": null,
   "metadata": {},
   "outputs": [],
   "source": []
  }
 ],
 "metadata": {
  "interpreter": {
   "hash": "5eaac68a45646ef2bca23d18494abeae6d08a54533a0455c95d8afe4180bb07d"
  },
  "kernelspec": {
   "display_name": "Python 3.8.8 ('base')",
   "language": "python",
   "name": "python3"
  },
  "language_info": {
   "codemirror_mode": {
    "name": "ipython",
    "version": 3
   },
   "file_extension": ".py",
   "mimetype": "text/x-python",
   "name": "python",
   "nbconvert_exporter": "python",
   "pygments_lexer": "ipython3",
   "version": "3.8.8"
  },
  "orig_nbformat": 4
 },
 "nbformat": 4,
 "nbformat_minor": 2
}
