{
 "cells": [
  {
   "cell_type": "markdown",
   "metadata": {
    "id": "gMLXaMXjG2oq"
   },
   "source": [
    "# Recommender System - 기본 과제 \\#1\n",
    "\n",
    "## 개요\n",
    "\n",
    "1. SGD 기반 MF 모델을 구현해본다.\n",
    "2. ALS 기반 MF 모델을 구현해본다.\n",
    "\n",
    "\n",
    "- 과제는 **<font color=#5F71F7>과제 HOMEWORK</font>** 라는 키워드로 표시하였습니다.\n",
    "- <code><font color=#007979># FILL HERE : ... #</font></code>라고 쓰여 있는 부분을 채워넣으시면 됩니다.\n",
    "\n",
    "---"
   ]
  },
  {
   "cell_type": "markdown",
   "metadata": {
    "id": "cXTj-vHiG2ow"
   },
   "source": [
    "## 0. 데이터 불러오기\n",
    "\n",
    "### 0.1. 기본 설정"
   ]
  },
  {
   "cell_type": "code",
   "execution_count": 2,
   "metadata": {
    "id": "-_cOWnNnG2ow"
   },
   "outputs": [],
   "source": [
    "from typing import Union, Tuple, List\n",
    "\n",
    "import os\n",
    "import pandas as pd\n",
    "import seaborn as sns\n",
    "import scipy\n",
    "import numpy as np\n",
    "import random\n",
    "from matplotlib import pyplot as plt\n",
    "from datetime import datetime\n",
    "from tqdm import tqdm\n",
    "\n",
    "%matplotlib inline\n",
    "\n",
    "from IPython.display import Image\n",
    "\n",
    "import warnings\n",
    "warnings.filterwarnings(\"ignore\")"
   ]
  },
  {
   "cell_type": "markdown",
   "metadata": {
    "id": "nGsd16hkG2oy"
   },
   "source": [
    "### 0.2. random seed 고정"
   ]
  },
  {
   "cell_type": "code",
   "execution_count": 3,
   "metadata": {
    "id": "4nHVr_PKG2oz"
   },
   "outputs": [],
   "source": [
    "seed = 0\n",
    "\n",
    "random.seed(seed)\n",
    "np.random.seed(seed)"
   ]
  },
  {
   "cell_type": "markdown",
   "metadata": {
    "id": "RchzxsrFG2oz"
   },
   "source": [
    "### 0.3. MovieLens 데이터셋 불러오기\n",
    "\n",
    "\n",
    "#### 활용 데이터셋 : MovieLens Latest Dataset (small)\n",
    "\n",
    "- 출처 :\n",
    "    <br>Harper, F. M., & Konstan, J. A. (2015). **The MovieLens Datasets: History and Context.** ACM Transactions on Interactive Intelligent Systems (TIIS), 5(4), 1-19. http://dx.doi.org/10.1145/2827872\n",
    "    \n",
    "    \n",
    "- 본 데이터셋은 직접 GroupLens 측을 통해 Naver Boostcamp RecSys 강좌 내에서 활용 및 재배포를 허가받은 데이터셋입니다.\n",
    "    <br> 과제 외의 목적으로 이용하고자 할 경우 [원시 데이터](https://grouplens.org/datasets/movielens/)를 직접 다운받아 사용하시기 바랍니다.\n",
    "    <br> ( 각 데이터셋에 대한 README.txt 파일을 통해 라이센스 정보를 확인하실 수 있습니다. )"
   ]
  },
  {
   "cell_type": "code",
   "execution_count": 4,
   "metadata": {
    "id": "ne9IbylhG2o0"
   },
   "outputs": [],
   "source": [
    "base_path = os.path.join(os.curdir, 'data')\n",
    "data_path = os.path.join(base_path, 'ml-latest-small')"
   ]
  },
  {
   "cell_type": "code",
   "execution_count": 5,
   "metadata": {
    "colab": {
     "base_uri": "https://localhost:8080/",
     "height": 363
    },
    "id": "vVipsxwyG2o1",
    "outputId": "e785a0ec-7215-4e69-e402-269b5697a03a"
   },
   "outputs": [],
   "source": [
    "rating_path = os.path.join(data_path, 'ratings.csv')\n",
    "\n",
    "# 무비렌즈 학습 데이터\n",
    "ratings_df = pd.read_csv(rating_path, encoding='utf-8')"
   ]
  },
  {
   "cell_type": "markdown",
   "metadata": {
    "id": "ZJCvy3C5jykk"
   },
   "source": [
    "---"
   ]
  },
  {
   "cell_type": "markdown",
   "metadata": {
    "id": "v04kkmghG2o2"
   },
   "source": [
    "## 1. SGD 기반 MF 모델 구현하기\n",
    "\n",
    "- SGD: Stochastic Gradient Descent\n",
    "- MF: Matrix Factorization"
   ]
  },
  {
   "cell_type": "markdown",
   "metadata": {
    "id": "YoUt0h4PG2o2"
   },
   "source": [
    "### <font color='#5F71F7'>과제 HOMEWORK (1)</font> \n",
    "### 1.1. MF 모델의 파라미터를 업데이트하는 SGD를 구현하라.\n",
    "\n",
    "<p style=\"font-size:20px\">\n",
    "$$b_u \\leftarrow b_u + \\gamma (e_{ui} - \\lambda b_u )$$\n",
    "$$b_i \\leftarrow b_i + \\gamma (e_{ui} - \\lambda b_i )$$\n",
    "$$p_u \\leftarrow p_u + \\gamma (e_{ui} \\cdot q_i - \\lambda p_u )$$\n",
    "$$q_i \\leftarrow q_i + \\gamma (e_{ui} \\cdot p_u - \\lambda q_i )$$\n",
    "</p>"
   ]
  },
  {
   "cell_type": "code",
   "execution_count": 300,
   "metadata": {
    "id": "j0HR1XV7G2o3"
   },
   "outputs": [],
   "source": [
    "def sgd(\n",
    "    P: np.ndarray,\n",
    "    Q: np.ndarray,\n",
    "    b: float,\n",
    "    b_u: np.ndarray,\n",
    "    b_i: np.ndarray,\n",
    "    samples: List[Tuple],\n",
    "    learning_rate: float,\n",
    "    regularization: float\n",
    ") -> None:\n",
    "    \"\"\"\n",
    "    MF 모델의 파라미터를 업데이트하는 SGD를 구현하자.\n",
    "    \n",
    "    ***********************************************************************************************************\n",
    "    SGD:\n",
    "        모든 학습 데이터에 대하여\n",
    "        1. 현재 주어진 파라미터로 predicted rating을 구함\n",
    "        2. 실제 rating과 predicted rating의 차이로 error를 구함\n",
    "        3. 2.에서 구한 error를 통해 유저와 아이템의 bias 업데이트 - 위 수식의 첫 두 줄\n",
    "        4. 2.에서 구한 error를 통해 유저와 아이템의 잠재 요인 행렬 업데이트 - 위 수식의 아래 두 줄\n",
    "    ***********************************************************************************************************\n",
    "    \n",
    "    :param P: (np.ndarray) 유저의 잠재 요인 행렬. shape: (유저 수, 잠재 요인 수)\n",
    "    :param Q: (np.ndarray) 아이템의 잠재 요인 행렬. shape: (아이템 수, 잠재 요인 수)\n",
    "    :param b: (float) 글로벌 bias\n",
    "    :param b_u: (np.ndarray) 유저별 bias\n",
    "    :param b_i: (np.ndarray) 아이템별 bias\n",
    "    :param samples: (List[Tuple]) 학습 데이터 (실제 평가를 내린 데이터만 학습에 사용함)\n",
    "                    (user_id, item_id, rating) tuple을 element로 하는 list임\n",
    "    :param learning_rate: (float) 학습률 \n",
    "    :param regularization: (float) l2 정규화 파라미터 람다\n",
    "    :return: None\n",
    "    \"\"\"\n",
    "    for user_id, item_id, rating in samples:\n",
    "        \n",
    "        # 1. 현재 주어진 파라미터로 predicted rating을 구함\n",
    "        predicted_rating = P[user_id,:].dot(Q[item_id,:].T) + b_i[item_id] + b_u[user_id] + b\n",
    "        \n",
    "        # 2. 실제 rating과 predicted rating의 차이로 error를 구함\n",
    "        error = rating-predicted_rating\n",
    "        \n",
    "        # 3. 2.에서 구한 error를 통해 유저와 아이템의 bias 업데이트\n",
    "        b_u[user_id] += learning_rate * (error-regularization*b_u[user_id])\n",
    "        b_i[item_id] += learning_rate * (error-regularization*b_i[item_id])\n",
    "        \n",
    "        # 4. 2.에서 구한 error를 통해 유저와 아이템의 잠재 요인 행렬 업데이트\n",
    "        P[user_id, :] += learning_rate * (error*Q[item_id,:] - regularization*P[user_id,:])\n",
    "        Q[item_id, :] += learning_rate * (error*P[user_id,:] - regularization*Q[item_id,:])"
   ]
  },
  {
   "cell_type": "markdown",
   "metadata": {
    "id": "qtkGKFChG2o4"
   },
   "source": [
    "### <font color='#5F71F7'>과제 HOMEWORK (2)</font> \n",
    "### 1.2. 유저와 아이템의 잠재 요인 행렬($P$, $Q$)과 글로벌, 유저, 아이템 bias($b$, $b_u$, $b_i$)를 활용하여 예측된 유저-아이템 rating 매트릭스($\\hat{R}$)를 구하는 함수를 구현하라\n",
    "\n",
    "- bias가 없을 때\n",
    "<p style=\"font-size:20px\">$$\\hat{R} = PQ^T$$</p>\n",
    "- bias가 있을 때\n",
    "<p style=\"font-size:20px\">$$\\hat{R} = PQ^T + \\mathbb{1}_{|U|}b_i ^ T + b_u \\mathbb{1}_{|I|}^{T} + b \\mathbb{1}_{|U|} \\mathbb{1}_{|I|}^{T} $$</p>\n"
   ]
  },
  {
   "cell_type": "code",
   "execution_count": 301,
   "metadata": {
    "id": "mAuOt7ntG2o4"
   },
   "outputs": [],
   "source": [
    "def get_predicted_full_matrix(\n",
    "    P: np.ndarray,\n",
    "    Q: np.ndarray,\n",
    "    b: float = None,\n",
    "    b_u: np.ndarray = None,\n",
    "    b_i: np.ndarray = None\n",
    ") -> np.ndarray:\n",
    "    \"\"\"\n",
    "    유저와 아이템의 잠재 요인 행렬과 글로벌, 유저, 아이템 bias를 활용하여 예측된 유저-아이템 rating 매트릭스를 구하라.\n",
    "    \n",
    "    :param P: (np.ndarray) 유저의 잠재 요인 행렬. shape: (유저 수, 잠재 요인 수)\n",
    "    :param Q: (np.ndarray) 아이템의 잠재 요인 행렬. shape: (아이템 수, 잠재 요인 수)\n",
    "    :param b: (float) 글로벌 bias\n",
    "    :param b_u: (np.ndarray) 유저별 bias\n",
    "    :param b_i: (np.ndarray) 아이템별 bias\n",
    "    :return: (np.ndarray) 예측된 유저-아이템 rating 매트릭스. shape: (유저 수, 아이템 수)\n",
    "    \"\"\"\n",
    "    if b is None:\n",
    "        return P.dot(Q.T)\n",
    "    else:\n",
    "        \n",
    "        return P.dot(Q.T) + b_i + b_u.reshape(610,1) + b"
   ]
  },
  {
   "cell_type": "markdown",
   "metadata": {
    "id": "L3WdMLAbG2o5"
   },
   "source": [
    "### <font color='#5F71F7'>과제 HOMEWORK (3)</font> \n",
    "### 1.3.  1.2.에서 구한 $\\hat{R}$를 활용하여 전체 학습 데이터에 대한 RMSE를 계산하는 함수를 구현하라.\n",
    "<p style=\"font-size:20px\">$$RMSE(\\hat{\\theta}) = \\sqrt{MSE(\\hat{\\theta})} = \\sqrt{\\mathbb{E}({(\\hat{\\theta} - \\theta)}^2)}$$</p>\n",
    "\n",
    "- RMSE: Root Mean Square Error; 평균 제곱근 오차\n",
    "\n",
    "- <font color=\"red\">주의) </font> 실제 평가를 내린 데이터에 대해서만 RMSE를 계산하여야 한다.\n",
    "\n",
    "- <font color=\"blue\">힌트) </font> [<code>numpy.ndarray.nonzero()</code>](https://numpy.org/doc/stable/reference/generated/numpy.ndarray.nonzero.html) 함수를 활용하라."
   ]
  },
  {
   "cell_type": "code",
   "execution_count": 302,
   "metadata": {
    "id": "yH5RD42AG2o6"
   },
   "outputs": [],
   "source": [
    "\n",
    "def get_rmse(\n",
    "    R: np.ndarray,\n",
    "    predicted_R: np.ndarray\n",
    ") -> float:\n",
    "    \"\"\"\n",
    "    전체 학습 데이터(실제 평가를 내린 데이터)에 대한 RMSE를 계산하라.\n",
    "    \n",
    "    ***********************************************************************************************************\n",
    "    주의) 실제 평가를 내린 데이터에 대해서만 rmse를 계산하여야 한다.\n",
    "    ***********************************************************************************************************\n",
    "    \n",
    "    :param R: (np.ndarray) 유저-아이템 rating 매트릭스. shape: (유저 수, 아이템 수)\n",
    "    :param predicted_R: (np.ndarray) 예측된 유저-아이템 rating 매트릭스. shape: (유저 수, 아이템 수)\n",
    "    :return: (float) 전체 학습 데이터에 대한 RMSE\n",
    "    \"\"\"\n",
    "    user_index, item_index = R.nonzero()\n",
    "    error = list()\n",
    "    for user_id, item_id in zip(user_index, item_index):\n",
    "        square_error = (R[user_id][item_id] - predicted_R[user_id][item_id])\n",
    "        error.append(square_error)\n",
    "    error = np.array(error)\n",
    "    rmse = np.sqrt(np.mean(error**2))\n",
    "    return rmse\n",
    "    "
   ]
  },
  {
   "cell_type": "markdown",
   "metadata": {
    "id": "2sIwnQQGG2o6"
   },
   "source": [
    "### 1.4. MF 구현\n",
    "- 1.1 ~ 1.3 에서 구현한 함수들을 활용하여 MF를 구현하고, 이를 바탕으로 MovieLens 데이터로 학습해본다."
   ]
  },
  {
   "cell_type": "code",
   "execution_count": 303,
   "metadata": {
    "id": "_vzlBo4iG2o7"
   },
   "outputs": [],
   "source": [
    "class MF(object):\n",
    "    \n",
    "    def __init__(self, R, K, learning_rate, regularization, epochs, verbose=False):\n",
    "        self.R = R\n",
    "        self.num_users, self.num_items = R.shape\n",
    "        self.K = K\n",
    "        self.learning_rate = learning_rate\n",
    "        self.regularization = regularization\n",
    "        self.epochs = epochs\n",
    "        self.verbose = verbose\n",
    "        \n",
    "        self.training_process = list()\n",
    "    \n",
    "    def train(self):\n",
    "        \n",
    "        # 유저, 아이템 잠재 요인 행렬 초기화\n",
    "        self.P = np.random.normal(scale=1./self.K, size=(self.num_users, self.K))\n",
    "        self.Q = np.random.normal(scale=1./self.K, size=(self.num_items, self.K))\n",
    "\n",
    "        # 글로벌, 유저, 아이템 bias 초기화\n",
    "        self.b = np.mean(self.R[np.where(self.R != 0)])\n",
    "        self.b_u = np.zeros(self.num_users)\n",
    "        self.b_i = np.zeros(self.num_items)\n",
    "\n",
    "        # 학습 데이터 생성\n",
    "        self.samples = [\n",
    "            (i, j, self.R[i, j])\n",
    "            for i in range(self.num_users)\n",
    "            for j in range(self.num_items)\n",
    "            if self.R[i, j] > 0\n",
    "        ]\n",
    "        \n",
    "        for epoch in range(1, self.epochs + 1):\n",
    "            np.random.shuffle(self.samples)\n",
    "            sgd(self.P, self.Q, self.b, self.b_u, self.b_i, self.samples, self.learning_rate, self.regularization)\n",
    "            predicted_R = self.get_predicted_full_matrix()\n",
    "            rmse = get_rmse(self.R, predicted_R)\n",
    "            self.training_process.append((epoch, rmse))\n",
    "            if self.verbose and (epoch % 10 == 0):\n",
    "                print(\"epoch: %d, error = %.4f\" % (epoch, rmse))\n",
    "        \n",
    "        self.training_process = pd.DataFrame(self.training_process, columns = ['epoch', 'rmse'])\n",
    "    \n",
    "    def get_predicted_full_matrix(self):\n",
    "        return get_predicted_full_matrix(self.P, self.Q, self.b, self.b_u, self.b_i)"
   ]
  },
  {
   "cell_type": "markdown",
   "metadata": {
    "id": "ab28a73f"
   },
   "source": [
    "---"
   ]
  },
  {
   "cell_type": "markdown",
   "metadata": {
    "id": "d0ce4b82"
   },
   "source": [
    "## 2. SVD 기반 MF 모델 실습\n",
    "### 2.1. 학습 데이터, 하이퍼 파라미터 초기화"
   ]
  },
  {
   "cell_type": "code",
   "execution_count": 304,
   "metadata": {
    "id": "nNgk-YYKG2o8"
   },
   "outputs": [],
   "source": [
    "user_item_matrix = ratings_df.pivot_table('rating', 'userId', 'movieId').fillna(0)\n",
    "\n",
    "# 유저-아이템 rating 매트릭스\n",
    "R = user_item_matrix.to_numpy()\n",
    "\n",
    "# 잠재 요인 수\n",
    "K = 20\n",
    "\n",
    "# learning rate\n",
    "learning_rate = 0.01\n",
    "\n",
    "# l2 정규화 파라미터\n",
    "regularization = 0.2\n",
    "\n",
    "# 총 epoch 수\n",
    "epochs = 30\n",
    "\n",
    "# 학습 과정의 status print 옵션\n",
    "verbose = True"
   ]
  },
  {
   "cell_type": "code",
   "execution_count": 305,
   "metadata": {
    "id": "fjTqicbGG2o8"
   },
   "outputs": [],
   "source": [
    "mf = MF(R, K, learning_rate, regularization, epochs, verbose)"
   ]
  },
  {
   "cell_type": "markdown",
   "metadata": {
    "id": "MxCHq28Hjykv"
   },
   "source": [
    "\n",
    "### 2.2. 모델 학습하기"
   ]
  },
  {
   "cell_type": "code",
   "execution_count": 306,
   "metadata": {
    "id": "W3RBRpG3G2o8"
   },
   "outputs": [
    {
     "name": "stdout",
     "output_type": "stream",
     "text": [
      "epoch: 10, error = 0.8352\n",
      "epoch: 20, error = 0.8205\n",
      "epoch: 30, error = 0.8132\n"
     ]
    }
   ],
   "source": [
    "mf.train()"
   ]
  },
  {
   "cell_type": "markdown",
   "metadata": {
    "id": "6b0e20ab"
   },
   "source": [
    "### 2.3. epoch에 따른 training error (RMSE) 결과 도식화"
   ]
  },
  {
   "cell_type": "markdown",
   "metadata": {
    "id": "c5c328de"
   },
   "source": [
    "- 아래와 동일한 결과가 나와야 함"
   ]
  },
  {
   "cell_type": "markdown",
   "metadata": {
    "id": "BNBjXgs8TeMp"
   },
   "source": [
    "![MF_train_result.png](data:image/png;base64,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)"
   ]
  },
  {
   "cell_type": "code",
   "execution_count": 307,
   "metadata": {
    "id": "hL42-USqG2o-"
   },
   "outputs": [
    {
     "data": {
      "image/png": "[encoded data removed]",
      "text/plain": [
       "<Figure size 432x288 with 1 Axes>"
      ]
     },
     "metadata": {
      "needs_background": "light"
     },
     "output_type": "display_data"
    }
   ],
   "source": [
    "train_result_df = mf.training_process\n",
    "\n",
    "x = train_result_df.epoch.values\n",
    "y = train_result_df.rmse.values\n",
    "plt.plot(x, y)\n",
    "plt.xticks(x, x)\n",
    "plt.xlabel(\"epoch\")\n",
    "plt.ylabel(\"RMSE\")\n",
    "plt.grid(axis=\"y\")\n",
    "plt.show()"
   ]
  },
  {
   "cell_type": "markdown",
   "metadata": {
    "id": "BTpFgeifG2o-"
   },
   "source": [
    "### 2.4. 기존 유저-아이템 rating 매트릭스"
   ]
  },
  {
   "cell_type": "markdown",
   "metadata": {
    "id": "YrAQVyRUT-br"
   },
   "source": [
    "![user_item_matrix.PNG](data:image/png;base64,iVBORw0KGgoAAAANSUhEUgAAA4QAAAF6CAYAAABBSZZ7AAAAAXNSR0IArs4c6QAAAARnQU1BAACxjwv8YQUAAAAJcEhZcwAADsMAAA7DAcdvqGQAAENSSURBVHhe7Z3tzuTEtahb7zAK2mfDPjv8PRFXFDQDk5DNtUzC1/CDe4hQAgwHriHKlxBfl4BQgsQZAb8T5h+Mj5dddleVXeXV7vrotp9HesTb3avLXsvl6lrT7wyHBgAAAAAAAHYJDSEAAAAAAMBOoSEEAAAAAADYKTSEAAAAAAAAO4WGEAAAAAAAYKfQEAIAAAAAAOwUGkIAAAAAAICdcrEN4ZNP324Oh0Pz1uc/mmfmicVpx0hFyeN9+/CV7lidt+80Hzz6ybySj09ee3485s1v3m2+M89n58kXzZuH22WO+c1Hzd3DTdna2sd89vXmM/N0Fkwtx/yMTz/42ARkwjtuiXtkuB/F9HPn++b9e8954/bPlcxxLd364c3tWL2C937sfrGvuXcsezzx3PmXLJ+Z+2O8joF8/Fw6z7yP5z5LUubjfH4MevUb3ptibZjLRzs/VNfHn4fGex8+6t4WHG8ltfOxr1+N6+PMH3uuh/KZec05VsfcmrqO2vkEx1uLOZZzrdfk0+KvV+OY2nxaz75GJfLxPo/n7p1R73gnM5dPZD8QnR/B/WB4vNhnwylc/TeEsze+IfZaauwLnP14ZsLYH3YpFtEYTi294+dmqG3uHIUuz3MXh1MwtezqOruo5KVbTLPn637QFzmmPUdT19X64LLnZDdPzQLe/VxyHp3A+AFqn1+kXrF7P3i/mDH6OH+j1z9OdT1S5jM8nqzh0XyODGOP461g9rMkdT42Jsa5HuY5Gffc6zT/2TizJph75+x8zNiq8Vaw93ycY3pzMZzPzHj2/WrGkXOYu69OoXo+sfHWYMaTfI7jrMzHvG96PvHrI4/PvS4jRfJxxxjmxOQ6mrHn3q9mNp+Z42vmh3mtO0/vtW6MU8c7kVUN4bggffDQKURXgPZn50YXrIJ17zMXxbnoLXaSzqLXMjzutN7jxw0XXnzwxgPntVzYxyxxPB9ncpTAnoC5seZOsgUpQldLa37lpvTxHEpdx7mFLfN94t8T/lqzGpPLcK8f56T7gVb0HjmBcY0Wrfqo6+XlFZq/3bocWpNMDVPUJnU+ofOO5jPizYEVDPfGoPO5ljAfm8lYZozhHNZuLoRQPrPnab8+sCKf4FiCN96pXEI+7vU6b86dnY+3tgfziX0GBNfU07mIfGy8uJMx5z3kM46zMp/h8fC+kWg+4abrZErl490Xw3h+XHAd1RLKxz9PL7+RubrPnk94f9G9x5qj5+R0VkM4JNGdwFBsk+DciQv2ybs32/wF7CaEM8ZynH9ek0mVGMlJjuHeRIUw9T5rUp+AU+/s9Nf6P958z70ZMjLMmcHJDZwYOd6tX7/RvHnvv7vjlchx4JyF41TkWENuJY7rL5L+49XI/fbyu833/jrnLeyTxxfCJ6//uqtBdw0i9Zmr19y9340zc79072+v8YPX/0//mn29zTo9vu+MuZA6ny5uOK9W/4N6Nh9DirVRjiPvH85jGMs/f/+xcEo+I97nc0f73EsS532eriGUz+S4M+exKh9/42SR8/qUzMdfP89ZT8/JZ+65WD5ynrOfAaE1dQUXkc/A3DFOpR1j9l70x547VuS5MSdvHgWvj+wxh/d4685JtMcvlU937czj7mf/vOfGO5V2jNl8NPuBmeNL3Wf3g5Hx/Nxmc1Vy3jeE5mZzT8BdwCYnZydmfu4K4hXHPsZswuZCx+JSfACcQnf8gscbai3HdCZabuYmdwa66yfX8/99W6Yh9PIqcT27hXc4RqG6dpQ8VsdxrtqLdjac9cQc216HzsXUT7NgXyLdvLProa2XnZeXo32/DD/b481+Jvh1XEmSfLzzHD4/ZIxYPgPOJupMJmtP4nwGnGvhY46ZYg5P8vHOza2vxYn5uHWawZuza6mZzxBnf2acO+9W5+PELeXTvy7PzZ6vyWV4/zlcRD4d7hirmdyLa/IxccG1dz4fZ74NMeeuc0XyOe6v5tY4573nMrNW2p8HQw2n646bz3C+9r3dvcf+WbAfO2uEuT4r88reEE4+JL3E5HWJ/fTh/zhJ2McYL6qtibXj/Avsn2duhklc6nhjXc69OVcwua6pMfPEnuT2jV6EmQ/j1Lh1NDdzgetZ9t5wr1/ShTjCkKP44q9eTFtXMz/HORlbsC+Qbt5510Bbr+C9b90v/jWeO95AirUkSz7WNVzMJ/H1nvssSZlPz8K6OrPJWcvsZ6M5H3n+dpuPHGtuPdLno1tbguOdQO18huPLay/e+6+zPxvPySdYcycfxWeAiT83F+Ei8jHEXlMzdy+em0/LcS5uLR/35+l+Z2HtO5XZtbI/hp3P3F7SzsddG8z75bEz91q8x6n2OnW/IZSHMlb7ur+o2ceITYBJnHVe/nnmxj9+ToZjheqSl8Q30wzDtfPNecwJ1gY3F911tG7e4GYhMaWO0+HXsUBdffw6n41Zx47z0bsnKuR4Ct31j6wd4XpF7n0r52FdH8bvxgscL8VczJKP9Vm1lE/qz5pu/Mh45+bTsTRHzetj/Bks5TMca/r6CfnEYkc0MctcTj793K+XT+T+tfPx55r/WDDx5+YiXEQ+hhTr2zB+8F5ck0/L+NoJ+XS1jay1KnLn499L/uNIfqtYysccf2l+dLW1cju+5q0FS9cnUJ8lsjeE/olPJpMplIxnJ+ccwxnDHX8ubrgoXTFji0JiutxKHM/kWTy34bpFJmMedB+MZ+MtGpO5mgO7lv6ilY1C9RwweQ3HK3KfzKwZSeerl5PQ5WUWYr+BOI3lNe7cXLq10T6/SL2C937sfnFec/MJx60nST6xukfyEZwxE9CNZ98jqfOZeTzBjJViPZrk452bvD47P07IJzSXwuOtp2Y+c/PyeB7rOCWfuePP3RdzcU5NnOO1eDHnUDOf8HhnMLkX1+RjznOYi/Zr2ny8464mdz5mPOfzuB1juO/dnBIwycdt9Lrjeecyl4+zPszlOre/mFlT1q5v+RtCwZywvOcYd2TyYd7iH2N43GmKYj8/F1fqXxkdsG+inAzHcZypa1rMDWaOZ0/8/MzMqUw486y1xNyxj1kix5L1HLHXgNa1C9YpDH8gJCafr94H6IB9zPVzx70+zhrnLP7rmVtzw/UK3/vR+8W+5taa7Y+XYh6myic6T4P5+J+B5zP3WZI6H2dezWHe6x5rHXP5OHMnMj/U18ffXI1ExlvJJeVz7lognJaPOxed+zeWT+w1IbCmrqF2PsHx1mKOZc+FVfl4c0ebqz2ef6xVlMjHzKfhtbljBde+U5nJx6ln5LPJnx92HfzX7PfZ524/P10v9KxqCAEAAAAAAOD6oSEEAAAAAADYKTSEAAAAAAAAO4WGEAAAAAAAYKfQEAIAAAAAAOwUGkIAAAAAAICdQkMIAAAAAACwU2gIAQAAAAAAdgoNIQAAAAAAwE6hIQQAAAAAANgpNIQAAAAAAAA7hYYQAAAAAABgp9AQAgAAAAAA7BQaQgAAAAAAgJ1CQwgAAAAAALBTaAgBAAAAAAB2Cg0hAAAAAADATrn6hvDJp283h8OheevzH80zR2KvAQAAAAAA7B0aQgAAAAAAgJ2StSH85LXnm8OzrzefdY++b96/91xz85t3m++6x+b1tmET7eeH2OG1ex8+6p/+5qPm7uGmeemNB91/u/d4Td+3D18Z3/egjbNfAwAAAAAAgCPVGkLn2zvT6A2Nn/2+uTi7eZx7/ekHH3evDQ0nDSEAAAAAAMCU6g3hpGF78kXz5uH22NQNj7tm0WscBbsh7L4dvH2n+eDRT5PXAAAAAAAAwKXir4y6vxY6Nm6m6bOfF7sGkYYQAAAAAAAgGVX/DuHA+Pf+JNb/htBG0xBaDSANIQAAAAAAQJisDaHzjZ1p5oaG0P02z20Wl/4OYaghHF7n7xACAAAAAAAsk7UhHP7+nzRlt379RvPmvf92viEcGrZO61c9/V8nHRvApYbQeizyr4wCAAAAAACEydsQAgAAAAAAwMVCQwgAAAAAALBTaAgBAAAAAAB2Cg0hAAAAAADATqEhBAAAAAAA2Ck0hAAAAAAAADuFhhAAAAAAAGCn0BACAAAAAADsFBpCAAAAAACAnRJtCA+HAyIiIiIiIl65IaIN4ePHjxEREREREfHKDUFDiIiIiIiIuHFD0BAiIiIiIiJu3BA0hIiIiIiIiBs3BA0hIiIiIiLixg1BQ4iIiIiIiLhxQ9AQIiIiIiIibtwQNISIiIiIiIgbN8R2G8If/t787vBU87NX/zT/+on+452Xm5t7v2/+OfPa8PrwP3187W//mo1Rac5bxokdTx13il++17zw1C+bP3z17/Drh5vumOfWVVuvZHVt/fP9X/Rj3Y7k2KqNU0tdO5PVtcI9UqOuV6l2Liec81klH/Ip6dbyqbmfySH5kE9JM+UTYpsNYerF0owXKvQPf3nQHJ653/xVHktsbPMf9evmnbs/b+788avusWyg589fG3eK/ZjBzbqZcP0m1z3+qWrrla6u/UZ9uH7OuJ7aOL3U9ZS4ZbVzXxu3bI26XqXauZxwzmeVfOJxtSWfeFx13XMru5/JIfnE42pLPvG4oyG21xDKRsw0g2kawrbYL95pXr3/YrAhlM3u8TjuxTlJWehvvTBuIoMbZ23cCUoOd377angTK3W1jmFv8CexC2rrlayurXKTjO91PlDXxWmlrqfFLaqd+9o4hTXqepVq53LCOZ9V8onH1ZZ84nG1rbBWZ5V84nG1JZ94nGWITTaEd2RTJotm2xgeN2jrlMVWxogtus5m1zxedVxvoe8ezzUS2jitw3hfvhscRyaZnf85N5G2XsnqajbnxwYktFnXximlrs7zSeqqnfvaOIXl63qdaudyyjmfU/KJx9WWfOJx1a2wVmeVfOJxtSWfeJxliO3+HUIpyrkNoXTe/9kXOtwQTje3azeCk4U9cGG1cVrlfLvNemQcP//1H0LaeqWra3cdnW+kAg2JNk4pdT0xTmH5e6RCXa9U7VxON+fzSj7xuNqSTzyutpPzyr5W55V84nG1JZ94nG0IGsKI44a+/dlfhP24JBtBOWfNhdXGKZTJNJ5rZByJS/UhpK1XsrqazfpyQ6KNW5a6rolTqJ372jiF5et6nWrncso5n1PyicfVlnzicdWtsFZnlXzicbUln3icZQgawpDmW43h7yIO2gvxoDSLx+OcsdmVYxb+HWjZtPo5zv4DKN6kizXIS2rrlayurc5mffKN1elxS1LXdXGLaue+Nk5hjbpepdq5nHDOZ5V84nG1JZ94XG0rrNVZJZ94XG3JJx5nGYKGUGls0XUugBx39Z82uJtI2UTPn7827kRj5y6TbtzEn7fZ1dYrXV3d6xe7YbRxJ0ldE9a1/D1So65XqXYuJ5zzWSWfeFxtySceV1333IrvZ5JLPvG42pJPPO5oCBpCpU5DKAuy1ZEPrw/fBPULtft+tWaxl3HG44mSj72JDsWdo7eJlZyc+pmayjHPrWuoXjKZh4kdi1ujjN2NZX9T59c1FHeOe6zrzD2SrK6BuT+pa8J7pHRdnXHtOTpT14syMJf9OqWc81kNnOdkrpFPHcnnsvOpsFZnNXSecj1y789ySD67zCfEdhtCRERERERE7AxBQ4iIiIiIiLhxQ9AQIiIiIiIibtwQNISIiIiIiIgbNwQNISIiIiIi4sYNQUOIiIiIiIi4cUPQECIiIiIiIm7cEDSEiIiIiIiIGzcEDSEiIiIiIuLGDRFtCAEAAAAAAGC70BACAAAAAADsFBpCAAAAAACAnUJDCAAAAAAAsFNoCAEAAAAAAHYKDSEAAAAAAMBOoSEEAAAAAADYKTSEAAAAAAAAO2WTDeEnrz3fHA6H3mdfbz4zz6/h24evjGO99fmP5tkp2rhFnnzRvHm43Y1z85t3m+/M0xO0cRq++ai5e7jpxnr6wcfmyRm0cQqK17VlnBe37zQfPPrJPDtFG7cIdXVIVtcK90iNul4lFeZ8VsiHfEqytXxq7GdyQj7kU5LC+WyuIXzy6dtdUfrN2PfN+/eeW71gdmMNDaUswIGNrDZumf587334qHskG+j5c9fGKTATya7XMK6DNk5B+br2G/XhRnHG9dDGLUJdHZLVVT33tXHL1KjrVVJhzmeFfNoH5FOMreXjnVuR/UxWyEcgn1KUz2fzvzIqxVm7+ZRN7LGwbtFttHGLyEJ/6+64iQxunLVxGmTjar3X3rg7aOMUFK9ri8yD8b3OB6qLNm4R6uqQrK7aua+NU1CjrldJhTmfFfLpIJ9CbC2fCmt1Vsinf0g+ZaiQz7YbQlk4DzerF0tnE9sij48bviPauEW8hb57PPctgzZOgUweuz6hyaSN01C8rmZzfmxAQpt1bdwy1NUmXV1r3CPl63qd1JjzOSGf42Pyyc/W8qmxVmeFfHrIpwwV8tluQyhd86H/ndpVG8+ZTev8Bk8bt8xkYQ9cWG2cBv9PF0MfLtq4ZcrXdZgLiw2JNk4BdbVIWFft3NfGLVOhrldK+TmfF/LpIZ8ybC2fyXkV2M/khHwM5FOEGvlstCHsN2fn/gVL2dBpNnjauEXkQmourDZOgUwmzYeLNk5D8bqa+bDckGjjlqGuNunqWuMeKV/X66TGnM8J+Rwfk09+tpZPjbU6K+TTQz5lqJDPJhtC2YhJM3juIil/Enfc0IU3sdq4ReSblNK/A+1NJv9PH0e0cQqK17XF2axPvrE6oo1bhLo6JKurdu5r4xTUqOtVUmHOZ4V8OsinEFvLp8JanRXy6R+STxkq5LO5hrArhjSDCTp+p7CyCAfG1MYt424iZRN93GDaaOMUyGQaN+eRTaw2TkH5urofms64Htq4RairQ7K6que+Nm6ZGnW9SirM+ayQT/uAfIqxtXy8cyuyn8kK+QjkU4ry+WyuIZRidA2h7erNZ7+RHcbpF+AWWZCtjlyYjVuDWexlHOdP/WSDaecRiluDjD3z/zSSnJyJFYhbQ6hecv2GiS0kq2vLODfsjbpf15bZuDXsua4z90iyugbm/qSuCe+R0nV1xrXn6ExdL4rAXPbrlHLOZ6XCPZwV8iGfklRYq7MSOk+5Hrn2ZzkhH/Kx2O4/KgMAAAAAAABRaAgBAAAAAAB2Cg0hAAAAAADATqEhBAAAAAAA2Ck0hAAAAAAAADuFhhAAAAAAAGCn0BACAAAAAADsFBpCAAAAAACAnUJDCAAAAAAAsFOiDeHjx48RERERERHxyg1BQ4iIiIiIiLhxQ9AQIiIiIiIibtwQNISIiIiIiIgbNwQNISIiIiIi4sYNQUOIiIiIiIi4cUPQECIiIiIiIm7cEDSEiIiIiIiIGzfEJhvCP9//RXM4HDpv7v2++edMjNZ/vPPyONZrf/vXbIyojVv0h783vzs8tXzu2jiNX77XvHC46cb62at/mo8RtXEKi9e1dZwXt3/Z/OGrf8/GiNq4RamrY7K6VrhHatT1Kq0w57NKPuRT0q3lU2M/k1PyIZ+SZsonxOYawh/+8qArSrcZM4vmnT9+NRu7ZDfWM/ebv8pjGeup+Y2sNm7Zr5t37v58PF/ZQM8v9to4hWYi9ZtXd9xVcQrL17XfqA83ijOupzZuUeq6Km5Z7dzXxi1bo65XaYU5n1XyicfVlnzicdV1z63Ifiar5BOPqy35xOOOhtj2r4zKpuyMhlA2scfCukVfE7eoLPS3Xhg3kcGNszZOo9TIeq+9cV8Vp7B4XVvlJhnf63ygrotblLquiltUO/e1cQpr1PUqrTDns0o+8bjakk88rrYV1uqskk88rrbkE4+zDLHZhrAryvBN4czrGp1NrHl83PCdHreot9B3j+e+ZdDGKZQ62R8mocmkjdNYvK5mc36cC6HNujZuWeq6Jk5hhXukfF2v0xpzPqfkE4+rLfnE46pbYa3OKvnE42pLPvE4yxDb/oZQOufDU2dtdpc3eNq4ZScLe+DCauM0+n+6GPpw0cYtW76uwzxYbEi0cQqp64o4hdq5r41btkJdr9Tycz6v5BOPqy35xONqOzmvAvuZnJJPPK625BOPsw2x7YawVTZlTrFOUN6r2eBp4xaVC6m5sNo4hTKZNB8u2jiNxetqNuvLDYk2blnquiZOYYV7pHxdr9Macz6n5BOPqy35xOOqW2Gtzir5xONqSz7xOMsQG28I+42nvXieovxJ3HFDF97EauMWlW9SSv8OtDeZ/D99PDlOYfG6tjqb9ck3VqfHLUpdV8Utqp372jiFNep6lVaY81kln3hcbcknHlfbCmt1VsknHldb8onHWYbYXEMoi+P4z9rLwsm/MhpXJtO4OY9sYrVxCsvX1f3QjN0w2rhFqeuquGW1c18bt2yNul6lFeZ8VsknHldb8onHVdc9tyL7maySTzyutuQTjzsaYoPfEPbFkX9QRjz3QncNphmrX4Db52VBtjryYNwazWIv4zh/6icbTHsTHYpbo4w98/80kpyc+gXi1hiql0zmYWLH4tYoY3dj2f8fPL+uobg17rmuM/dIsroG5v6krgnvkdJ1dca15+hMXS/KwFz265Ryzme1wj2cVfIhn5JWWKuzGjpPuR659mc5JZ9d5hNi83+HEBERERERce+GoCFERERERETcuCFoCBERERERETduCBpCRERERETEjRuChhAREREREXHjhqAhRERERERE3LghaAgRERERERE3bggaQkRERERExI0bgoYQERERERFx44aINoQAAAAAAACwXWgIAQAAAAAAdgoNIQAAAAAAwE6hIQQAAAAAANgpNIQAAAAAAAA7hYYQAAAAAABgp9AQAgAAAAAA7BQaQgAAAAAAgJ2y6Ybwk9eebw637zQfPPrJPHM63z58pTkcDp1vff6jeXaKNm6RJ180bx5ud+Pc/Obd5jvz9ARtnIZvPmruHm66sZ5+8LF5cgZtnILidW3p5oOMtTAntHGLUFeHZHWtcI/UqOtVUmHOZ4V8yKckW8unxn4mJ+RDPiUpnM92G8JhwTxj8/nk07ebw7OvN5/JAxkvMJY2bpnvm/fvPdfc+/BR90g20POLvTZOgZlI/ebVHddBG6egfF37jfpwozjjemjjFqGuDsnqqp772rhlatT1Kqkw57NCPu0D8inG1vLxzq3IfiYr5COQTynK57PRhrAvkHTL5zSEsok9FtYtuo02bhFZ6G/dHc83uHHWxmmQjav1Xnvj7qCNU1C8ri1yk4zvdT5QXbRxi1BXh2R11c59bZyCGnW9SirM+ayQTwf5FGJr+VRYq7NCPv1D8ilDhXw22RDKAikFefjwf85qCJ1NbIs8Pm74jmjjFvEW+u7x3Plr4xTI5LE/TEKTSRunoXhdzeb82ICENuvauGWoq026uta4R8rX9TqpMedzQj7Hx+STn63lU2Otzgr59JBPGSrks72GULrlw+1uY9Y1hqsv9HTTOr/B08YtM1nYAxdWG6fB/9PF0IeLNm6Z8nUd5sRiQ6KNU0BdLRLWVTv3tXHLVKjrlVJ+zueFfHrIpwxby2dyXgX2MzkhHwP5FKFGPptrCGUTNiyWsnDyDWEcmUyaDxdtnIbidTWb9eWGRBu3DHW1SVfXGvdI+bpeJzXmfE7I5/iYfPKztXxqrNVZIZ8e8ilDhXy21RCabyK6vztou7I40lAeN3ThTaw2bhE5/9K/A+1NJv9PH0e0cQqK17XF2axPvrE6oo1bhLo6JKurdu5r4xTUqOtVUmHOZ4V8OsinEFvLp8JanRXy6R+STxkq5LPRf1SmRxbKc74hdAori3BgLG3cMu4mMvwNgzZOgUymcXMe2cRq4xSUr6v7oRm7YbRxi1BXh2R1Vc99bdwyNep6lVSY81khn/YB+RRja/l451ZkP5MV8hHIpxTl86EhXKAbw3zT2C/ALbIgWx25MBu3BrPYyzjOn/rJBtPeRIfi1iBjz/w/jSQnZ2IF4tYQqpdM5mFiC8nq2iJjd2PZc8Kva8ts3Br2XNeZeyRZXQNzf1LXhPdI6bo649pzdKauF0VgLvt1Sjnns1LhHs4K+ZBPSSqs1VkJnadcj1z7s5yQD/lYbLohBAAAAAAAgDA0hAAAAAAAADuFhhAAAAAAAGCn0BACAAAAAADsFBpCAAAAAACAnUJDCAAAAAAAsFNoCAEAAAAAAHYKDSEAAAAAAMBOoSEEAAAAAADYKdGG8PHjx4iIiIiIiHjlhqAhRERERERE3LghaAgRERERERE3bggaQkRERERExI0bgoYQERERERFx44agIURERERERNy4IWgIERERERERN24IGkJERERERMSNG2KTDeGf7/+iORwOoz979U+zcaf4j3debm7u/b7558xrw+vD8V77279mY1T+8Pfmd4enunFix1PHafzyveaFw81yrbRxCrX1SlbX1nFe3P5l84ev/j0bI2rjFqWujsnqWuEeqVHXq7TCnM8q+ZBPSbeWT439TE7Jh3xKmimfEBtsCL9u3rn787SLpFl8Q4X+4S8PmsMz95u/ymOJfWrthrc/9zt//Kp7LBvo+Ty0cQrNROo3r+64q+IUauuVrq79Rn24fs64ntq4RanrqrhltXNfG7dsjbpepRXmfFbJJx5XW/KJx1XXPbci+5mskk88rrbkE487GmJ7DaFZLIfinG9b7BfvNK/efzHYEMpm93gB3ItzknLut14YN5HBjbM2TqNsXK332hv3VXEKtfVKVtdWuUnG9zofqOviFqWuq+IW1c59bZzCGnW9SivM+aySTzyutuQTj6tthbU6q+QTj6st+cTjLENsryGUxdL8KkXnmRdaFlvZ5MUWXWezax4fN4Yn6C303eO5bxm0cQpl8th5hSaTNk6jtl7J6mo258cGJLRZ18YtS13XxCmscI+Ur+t1WmPO55R84nG1JZ94XHUrrNVZJZ94XG3JJx5nGWJzDaE0buPfUZLO+fCUs3iepLz/P/tChxvC6eZ27UZwsrAHLqw2TqOfV+jDRRu3rLZe6eo6zIPFhkQbp5C6rohTqJ372rhlK9T1Si0/5/NKPvG42pJPPK62k/MqsJ/JKfnE42pLPvE42xCb/EdlbGVT5hTrBOW9wybWX4T9uCQbQbmQmgurjVMok0nz4aKN06itV7K6ms36ckOijVuWuq6JU1jhHilf1+u0xpzPKfnE42pLPvG46lZYq7NKPvG42pJPPM4yBA1hSPOtxvirp0Z7IR6UZvG48TtjsyvHLP070N5kCja+2jiF2nolq2urs1mffGN1etyi1HVV3KLaua+NU1ijrldphTmfVfKJx9WWfOJxta2wVmeVfOJxtSWfeJxliF38yuhxk7be2KLrXABZrFf/aYO7iZRN9Py5a+MUmhr1m/PIJlYbp1Bbr3R1da9f7IbRxi1KXVfFLaud+9q4ZWvU9SqtMOezSj7xuNqSTzyuuu65FdnPZJV84nG1JZ943NEQG/yGsC9O7Bu9NToNoSzIVkc+vD4cs1+o3ferNYv95Nxlg2lvokNxa5SxZ/6fRpKTM7ECcWsM1Usm8zCxY3FrlLG7sez/D55f11DcGvdc15l7JFldA3N/UteE90jpujrj2nN0pq4XZWAu+3VKOeezWuEezir5kE9JK6zVWQ2dp1yPXPuznJLPLvMJsflfGUVERERERNy7IWgIERERERERN24IGkJERERERMSNG4KGEBERERERceOGoCFERERERETcuCFoCBERERERETduCBpCRERERETEjRuChhAREREREXHjhqAhRERERERE3Lghog0hAAAAAAAAbBcaQgAAAAAAgJ1CQwgAAAAAALBTaAgBAAAAAAB2Cg0hAAAAAADATqEhBAAAAAAA2Ck0hAAAAAAAADuFhhAAAAAAAGCn0BACAAAAAADsFBpCAAAAAACAnUJDCAAAAAAAsFNoCAEAAAAAAHYKDSEAAAAAAMBOoSEEAAAAAADYKTSEAAAAAAAAO2UTDeEnrz3fHJ59vfms/fnJp283h8OheevzH5vmm4+au4eb5t6Hj/pAAAAAAAAAGKEhXMOTL5o3b91tPnj0U/fw24evNE8/+Lj7uTumOZek2OPGjp+QWF5S8xyNtj1u8bq2BI+fkIuqqzeXkuGNW7yukeOnJFddnfON3PvXwtbyCd7D5HMRBPNpybUW5GTT+Xhz7Brzid0z5HMBRPJx5uK1kCkffmUUAAAAAABgp9AQAgAAAAAA7BQaQgAAAAAAgJ1CQwgAAAAAALBTaAgBAAAAAAB2Cg0hAAAAAADATqEhBAAAAAAA2Ck0hAAAAAAAADuFhhAAAAAAAGCnRBvCx48fIyIiIiIi4pUbgoYQERERERFx44agIURERERERNy4IWgIERERERERN24IGkJERERERMSNG4KGEBERERERceOGoCFERERERETcuCFoCBERERERETduiItvCP/xzsvN4XDo/Nmrfxqf/+EvD8bnb+79vvmn9Z7HX77XvHC46V9/5n7zV/u1U7THab3zx6/m4374e/O7w1Nj3OH2L5s/fPXv+dglrbEmedlq4zRaedo1nqiNU2hf19f+9q/ZGFEbp/HP93/Rj7VwfbRxi5aua4352lq8rhXukRrz9SqtsJZklXzIp6Rby6fGfian5EM+Jc2UT4iLbgi7zZVp6IYGsNtkmeS7Da/5eVwUzUJpx61bML9u3nnxznHjKuM+FdjIymvnNJ6j7THv/nzcyMsGev7ctXEKTY36zas77qo4hd21HOoVqas2TqPMpeFGccb11MYtWryu7XuLz9cKdfVqVOIe0c5DbdxmrbCWZJV84nG1JZ94XHXdcyuyn8kq+cTjaks+8bijIS64IeyTnEus23gNzWH7WAowbMTsJtJ/33m6RbeV89F05YvKQn/rhXETGdw4a+M0es2BvXFfFadQ3nu8ruG6auM0yhwZ3+t8oK6LW7RCXV0LzNfW4nXVzn1tnMIa8/UqrT7nE0s+8bjakk88rrYV1uqskk88rrbkE4+zDHG5DaEk2W4a7/z21fFXI4bNlSyA9q+d2Y9l43nrpd82r9793+qvT1Wa85nbxHbHb481uHoT6C303eO5bxm0cQpl8tg1Ck0mbZxGpzkwj+caf23csv3m/HjtQpt1bdyyNerqWGK+VqhrjXuk/Hy9TqvP+cSSTzyutuQTj6tuhbU6q+QTj6st+cTjLENcfEM4LHTdotduXmVTudQQDnHDGCk2ZbHNnfOaXIzhV1a9uCUnC3vgwmrjNErtNB8u2rhlp83AfG21cQonzVGgIdHGKSxfV9cS87VGXbVzXxu3rHYeauO2a+05n1ryicfVlnzicbWdnFeB/UxOySceV1vyicfZhrj4htDfuMpjWRCjDeFYnH6T5hRrhTKmvQAvuXojKDlqLqw2TqFMJs2HizZOo9RHs3HWxi3bz4PlhkQbt2yNug5KnYrM1wp1rXGPaOehNm6r1pzzOSSfeFxtySceV90Ka3VWySceV1vyicdZhriev0NoNYjdAjh8C9i+JhuvYUHsmkOrOPZrx7G1eueg1N8YqpUcS/8OtDeZ/D99PDlOobz3WNNwc6CN0+hck8k3VqfHLVqhrsXna2vxumrnvjZOYY35epVWmfMZJZ94XG3JJx5X2wprdVbJJx5XW/KJx1mGuOCGsF/ohm/+uiS9XwXtN1veJlgWy8NN/5qJO3WDPCib2OX39scfN7dy/NV/2uBuIsPH18YpNDXqzz+yidXGKXQmbKRe2jiN9odm7IbRxi1aoa7l52uFuno1KnGPaOehNm6zVpjzWSWfeFxtySceV1333IrsZ7JKPvG42pJPPO5oiItuCEVJThpBcUi4UzZc5h+b8f90rNuYmff4r6k1i+4wzmB3DvKa1ZH7sf1C7Y2n1RrLOXfJ195Eh+LWaNXSnkiyiXcmViBujTK2jCPa9ZLrbV/nUNwax7lk/brxpK6huDWWrGtsvravO3VNOV9bZ+slx7DvkVDcGgNzf1LXhPdI6fnqjGvP0Zm6XpSBuezXKcmcL2HJe7iE5EM+Ja2wVmc1dJ5yPXLtz3JKPrvMJ8TFN4SIiIiIiIh4niFoCBERERERETduCBpCRERERETEjRuChhAREREREXHjhqAhRERERERE3LghaAgRERERERE3bggaQkRERERExI0bgoYQERERERFx44agIURERERERNy4IaINIQAAAAAAAGwXGkIAAAAAAICdQkMIAAAAAACwU2gIAQAAAAAAdgoNIQAAAAAAwE6hIQQAAAAAANgpNIQAAAAAAAA7hYYQAAAAAABgp1x8Q/jtw1eaw+HQ+fSDj82zTfPk07fH529+827znXn+k9eeH58fffb15jPz+lrkPOzj+Njn+dbnP5pnV/Dki+bNw+1unNjx1HEavvmouXu46cayazxBG6dAW69kdW0Z58btO80Hj34yz07Rxi1CXR2S1bXCPVKjrldJhTmfFfIhn5JsLZ8a+5mckA/5lKRwPhfdEHabK9PMDQ1gt8kyyd/78NH489yiOLynizsHs/iGCt0dZ2g6JXb1hvf75v17z43nKxvo+cVeG6fA1K/fvLrjOmjjFGjrla6u/Vwarp8zroc2bhHq6pCsruq5r41bpkZdr5IKcz4r5NM+IJ9ibC0f79yK7GeyQj4C+ZSifD4X3BD2Sc4l1m28huawRQow3WD27w81cXracX71UvPg9V8Fx5LN7vE83YtzErLQ37o7biKDG2dtnAbZuFrvtTfuDto4Bdp6Jatri8yR8b3OB6qLNm4R6uqQrK7aua+NU1CjrldJhTmfFfLpIJ9CbC2fCmt1Vsinf0g+ZaiQz+U2hJJku2l86Y0H469GDJsrWQDtXzvzHwtdUaymcS0ytmzyYouus9ltkcfHjeEJeAt993juWwZtnAKpk51XaDJp4zRo65WsrmZzfpwLoc26Nm4Z6mqTrq417pHydb1Oasz5nJDP8TH55Gdr+dRYq7NCPj3kU4YK+Vx8QzgsdN2iZxo8TUMom7GzF0k5h2f6McIN4XRzu3YjOFnYAxdWG6fBzyv04aKNW0Zbr3R1HebSYkOijVNAXS0S1lU797Vxy1So65VSfs7nhXx6yKcMW8tncl4F9jM5IR8D+RShRj4X3xCOGypJ8nDTPZYFMdoQ+u9diWzohk2svwjbSFySjaDkqLmw2jgFMpk0Hy7aOA3aeiWrq9msLzck2rhlqKtNurrWuEfK1/U6qTHnc0I+x8fkk5+t5VNjrc4K+fSQTxkq5HM9f4fQavK6BTDydwj911dhjifj2NoL8YA0i8eN3xmbXTlm6d+B9iZTsPHVxinQ1itZXVuczbq5tnPzQxu3CHV1SFZX7dzXximoUderpMKczwr5dJBPIbaWT4W1Oivk0z8knzJUyOeCG8J+oRu++euSHJo8KUC7oew3W/3G67gRc9+Xitii61wAWaxXH9vdRMom2s7riDZOgallvzmPbGK1cQq09UpXV/f6xW4Ybdwi1NUhWV3Vc18bt0yNul4lFeZ8VsinfUA+xdhaPt65FdnPZIV8BPIpRfl8LrohFCS54du5IeEO2XCZf2zGb9Rk85m1IZQF2erIhe6Y5jz7hXolZrGf5CX52pvoUNwarFraE0lyciZWIG4NoXrJ9bavc7K6toxzyZ4bfl1bZuPWsOe6ztwjyeoamPuTuia8R0rX1RnXnqMzdb0oAnPZr1PKOZ+VCvdwVsiHfEpSYa3OSug85Xrk2p/lhHzIx+LiG0IAAAAAAADIAw0hAAAAAADATqEhBAAAAAAA2Ck0hAAAAAAAADuFhhAAAAAAAGCn0BACAAAAAADsFBpCAAAAAACAnUJDCAAAAAAAsFNoCAEAAAAAAHZKtCF8/PgxIiIiIiIiXrkhaAgRERERERE3bggaQkRERERExI0bgoYQERERERFx44agIURERERERNy4IWgIERERERERN24IGkJERERERMSNG4KGEBERERERceOGuPiG8B/vvNwcDofOn736p/H5H/7yYHz+5t7vm38G3uO/dpJfvte8cLgZx7rzx6/m4374e/O7w1Nj3OH2L5s/fPXv+dgF/3z/F8dxnrnf/HUmptM65lk5Pv66eefuz8djRsey6mFfizXa1+i1v/1rNkbUxmkca7twfbRxi2rrRV1PUzv3k90jR6VusbFS1vUqrTDns0o+5FPSreVTca3OIvmQT0kz5RPiohvCbnNlmqKhAew2WSb5rkEzPw+LohNnFs11C2bbKL1457hxlbGeCmxk5bVY86ZUzt0+V9lAz59738QNDWo4blmp8bHRdcd1NHXuN7mROIXdNRrqFamrNk6jvZF3xvXUxi2qrRd1PVHt3NfGnaDUql1PQgtuyrpepRXmfFbJJx5XW/KJx1XXPbeia3UWySceV1vyiccdDXHBDWGf5Fxi3cZraPrax1KAYSMmG8/xGwizcIY2cKfpFt1WzifNMVyDG2fJ69YL42bzvA22q71xd16TDa51jGCcQnnv8bqG66qN0yhzZHyv84G6Lm5Rbb2o62lq5742Tm1bpxfvNK/efzF4fVLW9SqtMOezSj7xuNqSTzyuttXW6kySTzyutuQTj7MMcbkNoSTZbhrv/PbV8Vcjhs2VLID2r505j2WxbOO7zab5OcmmzJzP3Ca2O357foOpNoHaD4TucaJvI2TjftzUHpVJZp/LOTeR0xyYx3PH1MYt22/Oj9cutFnXxi2rrRd1teMUaud+4ntE7kWpUfCebE1X1+u0xpzPKfnE42pLPvG46lZaq7NJPvG42pJPPM4yxMU3hMNC1y165ltBpwFsX/MfD7Epm7PY5s55TS7G0JB6cScZuaiTDwDFBNAY+2DxN8LrP4SmzcB8bbVxCifNfKAh0cYp1NaLulpxCrVzXxunUs7/P/ux/Ot1NGFdr9Tycz6v5BOPqy35xONqOzmvEmt1RsknHldb8onH2Ya4+IZw3FBJkm2jJY9lQQw1hF1xTOM4GWOlsrGzF+Alz94ImlyPG+iZ1xNP6K5uVk3nXk/1IST10WyctXHL9pv15YZEG7estl7U1Y5TqJ37Ce8Rqc9w7v5mzI9LU9frtMaczyn5xONqSz7xuOpWWKuzSj7xuNqSTzzOMsT1/B1Cq7nrFsCh6Wtfk43XsCDaP/uvHcfW6p2DUn9jeIpdbpHGrFNqkfB3oLuGeun93qSLbYyXlPceaxpuDrRxGp1rYubSsUE5PW5Rbb2o62lq5742bklzrsNvHAzOXaOUdb1KK8z5rJJPPK625BOPq23ptTq35BOPqy35xOMsQ1xwQ9gvdLFv/vrNVr/xGjZi3Xu8uLWLpWxijxu8kP3xx82tLNZr/7RB/V53s6k7z3nVN4OpZZ/neZtd55iRnLVxGu0PzVjO2rhFtfWirieqnfvp7hFbOw//tZR1vUorzPmskk88rrbkE4+rrntupdfq9JJPPK625BOPOxriohtCUZIb/lR+SLhTNlyH/h+b8Tdo9ntWbzzNojuOY+zOQV6zOnI/tl+ovfEUymbTPlanvcG0c7GOGdqganRqZRzGk/NxJpZV83NvIDtXu15yPvZ1DsWtcczV/gbWr2sobo2Beu2irv49EopbY2DuT+qa6B6xlWPYY+WqqzOuPUdn6npRBuayX6eUcz6rFe7hrJIP+ZS04lqdxdB5yvXIsD/LLvnsMp8QF98QIiIiIiIi4nmGoCFERERERETcuCFoCBERERERETduCBpCRERERETEjRuChhAREREREXHjhqAhRERERERE3LghaAgRERERERE3bggaQkRERERExI0bgoYQERERERFx44aINoQAAAAAAACwXWgIAQAAAAAAdgoNIQAAAAAAwE6hIQQAAAAAANgpNIQAAAAAAAA7hYYQAAAAAABgp9AQAgAAAAAA7BQaQgAAAAAAgJ1y8Q3htw9faQ6HQ+fTDz42zzbNk0/fHp+/+c27zXfmeSH0npN58kXz5uF2P9btO80Hj34yL0yxj/nW5z+aZ1dgHdPPy0Ebp+Gbj5q7h5turGi9tHEKtPVKVteWT157vh9r4Vpq4xahrg7J6lrjHjFI3WJjpazrVVJhzmeFfMinJFvLp+JanQXyIZ+SFM7nohvCbnP17OvNZ+3PQwPYbbJM8vc+fDT+PCyKTpxZNLu4FcgGdtjUdeOac/FxXpNjrt7wft+8f++58Xzl+POLvTZOgalfn6c7roM2ToG2Xunq6m7kY9dSG7cIdXVIVlf13NfGnYDUql1PQgtuyrpeJRXmfFbIp31APsXYWj7euRVdq7NAPgL5lKJ8PhfcEPZJziXWbbyGpq9FCjBsxOyfhzFCG7iTkEX41t3ZDZ5sdo/n6V6ck/COEdw4a+M0yMbVeq+9cXfQxinQ1itZXVtkXozvdT5QXbRxi1BXh2R11c59bZyatk6/eql58PqvgtcnZV2vkgpzPivk00E+hdhaPtXW6kyQT/+QfMpQIZ/LbQglyXbT+NIbD8ZfjRg2V7IA2r92Zj92G0K/QVxPrMjOZrdFHh83hifgLfTd47lvGbRxCiQv+8MklKc2ToO2XsnqajbnxwYktFnXxi1DXW3S1bXGPSLIGiM1im2+0tX1Oqkx53NCPsfH5JOfreVTa63OBvn0kE8ZKuRz8Q3hsNB1i575VjDWENpx/hjr6DevdkPqMt3crt0IThb2wIXVxmnwN7ihDxdt3DLaeqWr6zAPFhsSbZwC6mqRsK7aua+NUyHn/0w/ln+9jiSs65VSfs7nhXx6yKcMW8tncl4l1uqMkI+BfIpQI5+LbwjHDZUkebjpHsuCGGoIx8dtAyfPvXjvv5zFcz3hTaxs/JJsBCVHzYXVximQyaT5cNHGadDWK1ldzbVbbki0cctQV5t0da1xj0h9hnP3N2M26ep6ndSY8zkhn+Nj8snP1vKpsVZnhXx6yKcMFfK5nr9DaDWI3QI4fAvYIhuv0IIor9mL5zmENniySTw+f8ZmV3Is/TvQ3mQKbni1cQq09UpW1xZns27m0rFBOaKNW4S6OiSrq3bua+OWMOfa/QGT5dw1SlnXq6TCnM8K+XSQTyG2lk/ptTo35NM/JJ8yVMjnghvCfqGL/Spov9nqN17DRmwubtXG04w7vjcylnMBZLFe/acN7iYy1IDq4xQ4eUU2sdo4Bdp6paur+6HpjOuhjVuEujokq6t67mvjTsPOwydlXa+SCnM+K+TTPiCfYmwtH+/cSq/V6SEfgXxKUT6fi24IBUlu+FP5IeEO2XCZf2zG3aD1xZl9z6mYhXcyljxvdeSCbBSHuH6hXol1TCcvydfeRIfi1mDV0p5IkpMzsQJxawjVS663fc2S1bVlnEv2Rt2va8ts3Br2XNeZeyRZXQNzf1LXlPeIQY5hj5Wrrs649hydqetFEZjLfp1SzvmsVLiHs0I+5FOSimt1FkLnKdcj1/4sJ+RDPhYX3xACAAAAAABAHmgIAQAAAAAAdgoNIQAAAAAAwE6hIQQAAAAAANgpNIQAAAAAAAA7hYYQAAAAAABgp9AQAgAAAAAA7BQaQgAAAAAAgJ1CQwgAAAAAALBTog3h48ePERERERER8coNQUOIiIiIiIi4cUPQECIiIiIiIm7cEDSEiIiIiIiIGzcEDSEiIiIiIuLGDUFDiIiIiIiIuHFD0BAiIiIiIiJu3BA0hIiIiIiIiBs3xMU3hP945+XmcDh0/uzVP3mvf928c/fnzc293zf/tJ6Pv+cEf/h787vDU+NYh9u/bP7w1b9nY+1jvva3f83GqLSO6ee1Kk7jl+81LxxuurGi9dLGKdTWK1ldW/98/xf9WJHrKGrjlhzHMd7541ezcdT1RCvcIzXqepVWWEuySj7kU9Kt5VNjP5NT8iGfkmbKJ8RFN4Td5uqZ+81f259/+MuDLtlxkxUqgFkouzjzc3AjvqS83xx/9nVjd25DnLznqbUb3r7BHc5XNtDzi702TqGpY19Xd9xVcQq19UpX134uDfPEGddTG7dsX6PFpoC6nqh27mvjlq1R16u0wlqSVfKJx9WWfOJx1XXPrch+JqvkE4+rLfnE446GuOCGsE9yNjGzIEoz6DeEXRM5fgPRj2G/foqywdO8V455PE/34pyk5HXrhXETGdw4a+M0ysbVeq+9cV8Vp1Bbr2R1bZWbZHyv84G6Lm5R7xoFpa6n6dW1xD1So65XaYW1JKvkE4+rLfnE42pbYa3OKvnE42pLPvE4yxCX2xBKku2m8c5vXx1/NcLZULYL4Ncmxl4MZeNpF8N/fIqy0A5Np3N8T2ezax4fN4Yn6C303eO5bxm0cQpl8tj1C00mbZxGbb2S1dVszo8NSGizro1TKNfEzFsx9IFNXe04hRXukfJ1vU61cznlnM8p+cTjaks+8bjqVlirs0o+8bjakk88zjLExTeEw0LXLXrtxtr5ViFzQ+hs6KTIw6+iOnHTze3ajeBkYQ9cWG2cRv9PF0MfLtq4ZbX1SlfXYZ4sNiTaOIVuffpx5s6dulpxCrVzXxu3bIW6Xqnl15K8kk88rrbkE4+r7eS8Cuxncko+8bjakk88zjbExTeE44ZKkmwbMmeDZWLsxVE2YXZx/MfnGNrgyfNJNoKSo+bCauMUymTSfLho4zRq65WsrmazvtyQaONOl7ryDeHW1c7llHM+p+QTj6st+cTjqlthrc4q+cTjaks+8TjLENfzdwj9BtF6zl4c5U/PUv0dQl9/wzcoxzye1xmbXcmn9O9Ae5PJ/9PHk+MUauuVrK6tzrUz8+bYoJwed6r+h/godT1N7dzXximsUdertMJaklXyicfVlnzicbWtsFZnlXzicbUln3icZYgLbgj7hW5o7rokFb8y2i2Ww692mtfXbcr6Dd14PBk30HU7FyASt6y7iZRN9HGDuSZOoalRn2dkE6uNU6itV7q6uh+asRtGG7ekjKNqDqjriWrnvjZu2Rp1vUorrCVZJZ94XG3JJx5XXffciuxnsko+8bjakk887miIi24IRUlu+Ic5hoRHzcLoNISt3cbMvOesC23GH8bqF2DzvNWRi7LhncSt0Tqmk5dsMO1NdChujTK2+QdQ7Hq5TU04bo2hesn1tq9zsrq2jnPJ/v/g+XUNxa3Qnru7q+vMPZKqrqG5P6lrwnukdF2dce05OlPXizIwl/06pZzzWQ2c52SukU8dyeey86mwVmc1dJ5yPXLtz3JKPrvMJ8TFN4SIiIiIiIh4niFoCBERERERETduCBpCRERERETEjRuChhAREREREXHjhqAhRERERERE3LghaAgRERERERE3bggaQkRERERExI0bgoYQERERERFx44agIURERERERNy4IaINIQAAAAAAAGwXGkIAAAAAAICdQkMIAAAAAACwU2gIAQAAAAAAdgoNIQAAAAAAwE6hIQQAAAAAANgpNIQAAAAAAAA7hYYQAAAAAABgp9AQAgAAAAAA7BQaQgAAAAAAgJ1CQwgAAAAAALBTaAgBAAAAAAB2Cg0hAAAAAADATqEhBAAAAAAA2Ck0hAAAAAAAADuFhhAAAAAAAGCn0BACAAAAAADsFBpCAAAAAACAnUJDCAAAAAAAsFMUDeH3zfv3nmsOh0Pvs683n5lXHJ580bx5627zwaOfzBMGef5we3z/vQ8fmRc2xDcfNXcPN2OOb33+o3nBq53l0w8+NjFN8+3DV46v3b4zreGAqeVx/IRIDrFjAwAAAADA5lhsCD957fnm5jfvNt+Zx9K82I87hqZv0lD0DdHYBOZsaGphmsFjo9vnHMrxyadvO3XqmkGrye5eDzTdci2kaaQhBAAAAACAFMQbQkWTMDQpL73xYBI719xIA2R/O2YjY731wcP+27ZxLPdbtvG9M82lvN8Zuz3/F03zOpxnZ+hbTsMnbS7265LHpAk2zDXIwXhzzn7z6H5rOt9Qypj/qz2vxYbaNKhDrs7YQ+M+95p9rWeuu13b4RraNZVz6ppb89i+DhJ3r72u9rHtHOz3Rb8hBQAAAACApEQbwrlmx+fTdqPfvT7TRISapeg3YM5rfXN0bC7cx12jMTQ1ptmxjyfHl9f981jKS14fz0PyijSQEms3P0Iox6Xjdsx9iyrPPdOON/eajf+6/dj87NdrfHxiQ2g3dcPjsQ7e+7vraj226+vXKjY/AAAAAAAgLYsNoWzyhw2/GGxoAg2h3yzFGiy76RBmmwPrOPL6eD7t8y/++o3mzV+9ZM6hbR7Nz3Iei42YR9fEaL6xkvM53FhNWt+0Ts57qZkzzJ2rPNc1bgtjxPKce82pr3397J8NfkPojDWJd7/l9K+rHU8DCAAAAABQj8WGUJqi8VukFtnczzYdM02EvP+chnC2wZGmaPjHa6yxJFbOU8boGpH2teHXRYdGStXgjbhNTYyuqTENczf+p/93kqOm8enq7Z/fTB6hc5o0Xhazr9nXQn4ejm3/bLDfP7ku9jgd+oZwbKBN/TT1BgAAAACANKi+IXSYaRY6Zp6fa+hijZHfOMy932kIrcZD3iv/lfFlDPmv3cj2WM3HQnMm440Nnp/rAnJs/7wnTZHHbDMo5zt+49myyYbwiMStrTkAAAAAAJxOtCGca2xCm/m55+eav9km0+A3DnPv948j43X/YIn8HTvzunyj9vD1X4ebioXGqmvO7EbJP4cFJg2QopGbbVDl2NY/EGM7bXZnGjWLudec+tp19Wos2DlNxprUaF1D2NO/dy4/AAAAAABIS7QhnNucy+Z+tumY3eR77z/5G67+/cfn/MemqWkbpPGczDHsc/QbmNlGc6Q9xpvvO/lJ/GzOgpd3N7Zfh0gD5DSfSyzUb/q6VX/zmn8txsf2Oc691jamORrCybWI1AoAAAAAANKy0BAK/eZ++GZK2xiNmOYi9s3WwLQhFNzjT173m5eWUGM5jJH6VxKHpnTQb9iCDahXG9vZOpn4YEMomOZtGMepQ+xaeNfPzkmu+acP/2ccK/U3hPL6cCwxmh8AAAAAACRD0RACAAAAAADAFqEhBAAAAAAA2Ck0hAAAAAAAADuFhhAAAAAAAGCn0BACAAAAAADsFBpCAAAAAACAnUJDCAAAAAAAsFNoCAEAAAAAAHYKDSEAAAAAAMBOoSEEAAAAAADYKTSEAAAAAAAAu6Rp/j8jpGCw4hPoSwAAAABJRU5ErkJggg==)"
   ]
  },
  {
   "cell_type": "markdown",
   "metadata": {
    "id": "UlF6Y0ING2o-"
   },
   "source": [
    "### 2.5.  예측된 유저-아이템 rating 매트릭스\n",
    "\n",
    "- 아래와 동일한 결과가 나와야 함"
   ]
  },
  {
   "cell_type": "markdown",
   "metadata": {
    "id": "d5Wjr8ZEUJyr"
   },
   "source": [
    "![MF_expected_user_item_matrix.PNG](data:image/png;base64,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)"
   ]
  },
  {
   "cell_type": "code",
   "execution_count": 309,
   "metadata": {
    "id": "BNd9VWK-G2o-"
   },
   "outputs": [
    {
     "data": {
      "text/html": [
       "<div>\n",
       "<style scoped>\n",
       "    .dataframe tbody tr th:only-of-type {\n",
       "        vertical-align: middle;\n",
       "    }\n",
       "\n",
       "    .dataframe tbody tr th {\n",
       "        vertical-align: top;\n",
       "    }\n",
       "\n",
       "    .dataframe thead th {\n",
       "        text-align: right;\n",
       "    }\n",
       "</style>\n",
       "<table border=\"1\" class=\"dataframe\">\n",
       "  <thead>\n",
       "    <tr style=\"text-align: right;\">\n",
       "      <th>movieId</th>\n",
       "      <th>1</th>\n",
       "      <th>2</th>\n",
       "      <th>3</th>\n",
       "      <th>4</th>\n",
       "      <th>5</th>\n",
       "      <th>6</th>\n",
       "      <th>7</th>\n",
       "      <th>8</th>\n",
       "      <th>9</th>\n",
       "      <th>10</th>\n",
       "      <th>...</th>\n",
       "      <th>193565</th>\n",
       "      <th>193567</th>\n",
       "      <th>193571</th>\n",
       "      <th>193573</th>\n",
       "      <th>193579</th>\n",
       "      <th>193581</th>\n",
       "      <th>193583</th>\n",
       "      <th>193585</th>\n",
       "      <th>193587</th>\n",
       "      <th>193609</th>\n",
       "    </tr>\n",
       "    <tr>\n",
       "      <th>userId</th>\n",
       "      <th></th>\n",
       "      <th></th>\n",
       "      <th></th>\n",
       "      <th></th>\n",
       "      <th></th>\n",
       "      <th></th>\n",
       "      <th></th>\n",
       "      <th></th>\n",
       "      <th></th>\n",
       "      <th></th>\n",
       "      <th></th>\n",
       "      <th></th>\n",
       "      <th></th>\n",
       "      <th></th>\n",
       "      <th></th>\n",
       "      <th></th>\n",
       "      <th></th>\n",
       "      <th></th>\n",
       "      <th></th>\n",
       "      <th></th>\n",
       "      <th></th>\n",
       "    </tr>\n",
       "  </thead>\n",
       "  <tbody>\n",
       "    <tr>\n",
       "      <th>1</th>\n",
       "      <td>4.507042</td>\n",
       "      <td>4.135072</td>\n",
       "      <td>3.950161</td>\n",
       "      <td>3.325043</td>\n",
       "      <td>3.713286</td>\n",
       "      <td>4.535647</td>\n",
       "      <td>3.827989</td>\n",
       "      <td>3.629863</td>\n",
       "      <td>3.731504</td>\n",
       "      <td>4.128752</td>\n",
       "      <td>...</td>\n",
       "      <td>4.156997</td>\n",
       "      <td>4.030834</td>\n",
       "      <td>4.283906</td>\n",
       "      <td>4.281295</td>\n",
       "      <td>4.159856</td>\n",
       "      <td>4.282648</td>\n",
       "      <td>4.157552</td>\n",
       "      <td>4.157199</td>\n",
       "      <td>4.157439</td>\n",
       "      <td>4.312989</td>\n",
       "    </tr>\n",
       "    <tr>\n",
       "      <th>2</th>\n",
       "      <td>3.921905</td>\n",
       "      <td>3.551400</td>\n",
       "      <td>3.367600</td>\n",
       "      <td>2.748196</td>\n",
       "      <td>3.128436</td>\n",
       "      <td>3.950047</td>\n",
       "      <td>3.245588</td>\n",
       "      <td>3.047349</td>\n",
       "      <td>3.151806</td>\n",
       "      <td>3.546292</td>\n",
       "      <td>...</td>\n",
       "      <td>3.565393</td>\n",
       "      <td>3.450256</td>\n",
       "      <td>3.685701</td>\n",
       "      <td>3.707332</td>\n",
       "      <td>3.578672</td>\n",
       "      <td>3.694271</td>\n",
       "      <td>3.573933</td>\n",
       "      <td>3.576782</td>\n",
       "      <td>3.569360</td>\n",
       "      <td>3.721171</td>\n",
       "    </tr>\n",
       "    <tr>\n",
       "      <th>3</th>\n",
       "      <td>2.864611</td>\n",
       "      <td>2.487611</td>\n",
       "      <td>2.298888</td>\n",
       "      <td>1.626660</td>\n",
       "      <td>2.076805</td>\n",
       "      <td>2.883939</td>\n",
       "      <td>2.188440</td>\n",
       "      <td>1.959833</td>\n",
       "      <td>2.101360</td>\n",
       "      <td>2.487237</td>\n",
       "      <td>...</td>\n",
       "      <td>2.448730</td>\n",
       "      <td>2.320118</td>\n",
       "      <td>2.643503</td>\n",
       "      <td>2.644150</td>\n",
       "      <td>2.529905</td>\n",
       "      <td>2.587294</td>\n",
       "      <td>2.543970</td>\n",
       "      <td>2.439738</td>\n",
       "      <td>2.583118</td>\n",
       "      <td>2.555602</td>\n",
       "    </tr>\n",
       "    <tr>\n",
       "      <th>4</th>\n",
       "      <td>3.698969</td>\n",
       "      <td>3.328620</td>\n",
       "      <td>3.144466</td>\n",
       "      <td>2.531009</td>\n",
       "      <td>2.906362</td>\n",
       "      <td>3.728237</td>\n",
       "      <td>3.021338</td>\n",
       "      <td>2.822896</td>\n",
       "      <td>2.920153</td>\n",
       "      <td>3.324178</td>\n",
       "      <td>...</td>\n",
       "      <td>3.351387</td>\n",
       "      <td>3.239776</td>\n",
       "      <td>3.475981</td>\n",
       "      <td>3.487151</td>\n",
       "      <td>3.358586</td>\n",
       "      <td>3.482297</td>\n",
       "      <td>3.345071</td>\n",
       "      <td>3.362262</td>\n",
       "      <td>3.351364</td>\n",
       "      <td>3.502653</td>\n",
       "    </tr>\n",
       "    <tr>\n",
       "      <th>5</th>\n",
       "      <td>3.796793</td>\n",
       "      <td>3.424483</td>\n",
       "      <td>3.239837</td>\n",
       "      <td>2.611381</td>\n",
       "      <td>3.002253</td>\n",
       "      <td>3.824943</td>\n",
       "      <td>3.117593</td>\n",
       "      <td>2.920277</td>\n",
       "      <td>3.021877</td>\n",
       "      <td>3.418553</td>\n",
       "      <td>...</td>\n",
       "      <td>3.447747</td>\n",
       "      <td>3.322973</td>\n",
       "      <td>3.568697</td>\n",
       "      <td>3.571829</td>\n",
       "      <td>3.451697</td>\n",
       "      <td>3.570610</td>\n",
       "      <td>3.448850</td>\n",
       "      <td>3.446901</td>\n",
       "      <td>3.447904</td>\n",
       "      <td>3.600711</td>\n",
       "    </tr>\n",
       "    <tr>\n",
       "      <th>...</th>\n",
       "      <td>...</td>\n",
       "      <td>...</td>\n",
       "      <td>...</td>\n",
       "      <td>...</td>\n",
       "      <td>...</td>\n",
       "      <td>...</td>\n",
       "      <td>...</td>\n",
       "      <td>...</td>\n",
       "      <td>...</td>\n",
       "      <td>...</td>\n",
       "      <td>...</td>\n",
       "      <td>...</td>\n",
       "      <td>...</td>\n",
       "      <td>...</td>\n",
       "      <td>...</td>\n",
       "      <td>...</td>\n",
       "      <td>...</td>\n",
       "      <td>...</td>\n",
       "      <td>...</td>\n",
       "      <td>...</td>\n",
       "      <td>...</td>\n",
       "    </tr>\n",
       "    <tr>\n",
       "      <th>606</th>\n",
       "      <td>3.901644</td>\n",
       "      <td>3.529790</td>\n",
       "      <td>3.345162</td>\n",
       "      <td>2.720738</td>\n",
       "      <td>3.108554</td>\n",
       "      <td>3.930208</td>\n",
       "      <td>3.222876</td>\n",
       "      <td>3.024704</td>\n",
       "      <td>3.126058</td>\n",
       "      <td>3.523748</td>\n",
       "      <td>...</td>\n",
       "      <td>3.552519</td>\n",
       "      <td>3.427357</td>\n",
       "      <td>3.676481</td>\n",
       "      <td>3.676783</td>\n",
       "      <td>3.553207</td>\n",
       "      <td>3.675545</td>\n",
       "      <td>3.551268</td>\n",
       "      <td>3.551886</td>\n",
       "      <td>3.552260</td>\n",
       "      <td>3.704828</td>\n",
       "    </tr>\n",
       "    <tr>\n",
       "      <th>607</th>\n",
       "      <td>4.043876</td>\n",
       "      <td>3.672271</td>\n",
       "      <td>3.487143</td>\n",
       "      <td>2.862219</td>\n",
       "      <td>3.251239</td>\n",
       "      <td>4.071473</td>\n",
       "      <td>3.364191</td>\n",
       "      <td>3.162648</td>\n",
       "      <td>3.268517</td>\n",
       "      <td>3.665713</td>\n",
       "      <td>...</td>\n",
       "      <td>3.690256</td>\n",
       "      <td>3.566334</td>\n",
       "      <td>3.816528</td>\n",
       "      <td>3.815042</td>\n",
       "      <td>3.696322</td>\n",
       "      <td>3.817680</td>\n",
       "      <td>3.692102</td>\n",
       "      <td>3.694516</td>\n",
       "      <td>3.696232</td>\n",
       "      <td>3.846451</td>\n",
       "    </tr>\n",
       "    <tr>\n",
       "      <th>608</th>\n",
       "      <td>3.580408</td>\n",
       "      <td>3.208325</td>\n",
       "      <td>3.022836</td>\n",
       "      <td>2.396439</td>\n",
       "      <td>2.787063</td>\n",
       "      <td>3.608899</td>\n",
       "      <td>2.900144</td>\n",
       "      <td>2.702566</td>\n",
       "      <td>2.805472</td>\n",
       "      <td>3.202183</td>\n",
       "      <td>...</td>\n",
       "      <td>3.229426</td>\n",
       "      <td>3.100601</td>\n",
       "      <td>3.353463</td>\n",
       "      <td>3.353576</td>\n",
       "      <td>3.232676</td>\n",
       "      <td>3.353029</td>\n",
       "      <td>3.229391</td>\n",
       "      <td>3.231247</td>\n",
       "      <td>3.233245</td>\n",
       "      <td>3.385148</td>\n",
       "    </tr>\n",
       "    <tr>\n",
       "      <th>609</th>\n",
       "      <td>3.639773</td>\n",
       "      <td>3.267921</td>\n",
       "      <td>3.083935</td>\n",
       "      <td>2.459227</td>\n",
       "      <td>2.846164</td>\n",
       "      <td>3.668679</td>\n",
       "      <td>2.961457</td>\n",
       "      <td>2.762966</td>\n",
       "      <td>2.865339</td>\n",
       "      <td>3.262284</td>\n",
       "      <td>...</td>\n",
       "      <td>3.289213</td>\n",
       "      <td>3.165193</td>\n",
       "      <td>3.417119</td>\n",
       "      <td>3.419447</td>\n",
       "      <td>3.292391</td>\n",
       "      <td>3.414976</td>\n",
       "      <td>3.291772</td>\n",
       "      <td>3.289859</td>\n",
       "      <td>3.289714</td>\n",
       "      <td>3.444884</td>\n",
       "    </tr>\n",
       "    <tr>\n",
       "      <th>610</th>\n",
       "      <td>4.043251</td>\n",
       "      <td>3.670859</td>\n",
       "      <td>3.485921</td>\n",
       "      <td>2.859992</td>\n",
       "      <td>3.249308</td>\n",
       "      <td>4.071601</td>\n",
       "      <td>3.363822</td>\n",
       "      <td>3.164838</td>\n",
       "      <td>3.267300</td>\n",
       "      <td>3.664657</td>\n",
       "      <td>...</td>\n",
       "      <td>3.692119</td>\n",
       "      <td>3.565754</td>\n",
       "      <td>3.817502</td>\n",
       "      <td>3.816786</td>\n",
       "      <td>3.695497</td>\n",
       "      <td>3.818367</td>\n",
       "      <td>3.694211</td>\n",
       "      <td>3.694696</td>\n",
       "      <td>3.694984</td>\n",
       "      <td>3.849274</td>\n",
       "    </tr>\n",
       "  </tbody>\n",
       "</table>\n",
       "<p>610 rows × 9724 columns</p>\n",
       "</div>"
      ],
      "text/plain": [
       "movieId    1         2         3         4         5         6         7       \\\n",
       "userId                                                                          \n",
       "1        4.507042  4.135072  3.950161  3.325043  3.713286  4.535647  3.827989   \n",
       "2        3.921905  3.551400  3.367600  2.748196  3.128436  3.950047  3.245588   \n",
       "3        2.864611  2.487611  2.298888  1.626660  2.076805  2.883939  2.188440   \n",
       "4        3.698969  3.328620  3.144466  2.531009  2.906362  3.728237  3.021338   \n",
       "5        3.796793  3.424483  3.239837  2.611381  3.002253  3.824943  3.117593   \n",
       "...           ...       ...       ...       ...       ...       ...       ...   \n",
       "606      3.901644  3.529790  3.345162  2.720738  3.108554  3.930208  3.222876   \n",
       "607      4.043876  3.672271  3.487143  2.862219  3.251239  4.071473  3.364191   \n",
       "608      3.580408  3.208325  3.022836  2.396439  2.787063  3.608899  2.900144   \n",
       "609      3.639773  3.267921  3.083935  2.459227  2.846164  3.668679  2.961457   \n",
       "610      4.043251  3.670859  3.485921  2.859992  3.249308  4.071601  3.363822   \n",
       "\n",
       "movieId    8         9         10      ...    193565    193567    193571  \\\n",
       "userId                                 ...                                 \n",
       "1        3.629863  3.731504  4.128752  ...  4.156997  4.030834  4.283906   \n",
       "2        3.047349  3.151806  3.546292  ...  3.565393  3.450256  3.685701   \n",
       "3        1.959833  2.101360  2.487237  ...  2.448730  2.320118  2.643503   \n",
       "4        2.822896  2.920153  3.324178  ...  3.351387  3.239776  3.475981   \n",
       "5        2.920277  3.021877  3.418553  ...  3.447747  3.322973  3.568697   \n",
       "...           ...       ...       ...  ...       ...       ...       ...   \n",
       "606      3.024704  3.126058  3.523748  ...  3.552519  3.427357  3.676481   \n",
       "607      3.162648  3.268517  3.665713  ...  3.690256  3.566334  3.816528   \n",
       "608      2.702566  2.805472  3.202183  ...  3.229426  3.100601  3.353463   \n",
       "609      2.762966  2.865339  3.262284  ...  3.289213  3.165193  3.417119   \n",
       "610      3.164838  3.267300  3.664657  ...  3.692119  3.565754  3.817502   \n",
       "\n",
       "movieId    193573    193579    193581    193583    193585    193587    193609  \n",
       "userId                                                                         \n",
       "1        4.281295  4.159856  4.282648  4.157552  4.157199  4.157439  4.312989  \n",
       "2        3.707332  3.578672  3.694271  3.573933  3.576782  3.569360  3.721171  \n",
       "3        2.644150  2.529905  2.587294  2.543970  2.439738  2.583118  2.555602  \n",
       "4        3.487151  3.358586  3.482297  3.345071  3.362262  3.351364  3.502653  \n",
       "5        3.571829  3.451697  3.570610  3.448850  3.446901  3.447904  3.600711  \n",
       "...           ...       ...       ...       ...       ...       ...       ...  \n",
       "606      3.676783  3.553207  3.675545  3.551268  3.551886  3.552260  3.704828  \n",
       "607      3.815042  3.696322  3.817680  3.692102  3.694516  3.696232  3.846451  \n",
       "608      3.353576  3.232676  3.353029  3.229391  3.231247  3.233245  3.385148  \n",
       "609      3.419447  3.292391  3.414976  3.291772  3.289859  3.289714  3.444884  \n",
       "610      3.816786  3.695497  3.818367  3.694211  3.694696  3.694984  3.849274  \n",
       "\n",
       "[610 rows x 9724 columns]"
      ]
     },
     "execution_count": 309,
     "metadata": {},
     "output_type": "execute_result"
    }
   ],
   "source": [
    "predicted_user_item_matrix = pd.DataFrame(mf.get_predicted_full_matrix(), columns=user_item_matrix.columns, index=user_item_matrix.index)\n",
    "\n",
    "predicted_user_item_matrix"
   ]
  },
  {
   "cell_type": "markdown",
   "metadata": {
    "id": "640eab3e"
   },
   "source": [
    "---"
   ]
  },
  {
   "cell_type": "markdown",
   "metadata": {
    "id": "a6c7775d"
   },
   "source": [
    "## 3. ALS 기반 MF 모델 구현하기\n",
    "\n",
    "- ALS: Alternating Least Square"
   ]
  },
  {
   "cell_type": "markdown",
   "metadata": {
    "id": "c7dffc33",
    "tags": []
   },
   "source": [
    "### <font color='#5F71F7'>과제 HOMEWORK (4)</font> \n",
    "### 3.1. MF 모델의 파라미터를 업데이트하는 ALS를 구현하라.\n",
    "\n",
    "<p style=\"font-size:20px\">\n",
    "$$p_u = {(Q^{T}C^{u}Q + {\\lambda}I)^{-1}Q^{T}C^{u}f_{u}}$$\n",
    "$$q_i = {(P^{T}C^{i}P + {\\lambda}I)^{-1}P^{T}C^{i}f_{i}}$$\n",
    "</p>\n",
    "\n",
    "- <font color=\"blue\">힌트) </font> [<code>numpy.linalg.solve()</code>](https://numpy.org/doc/stable/reference/generated/numpy.linalg.solve.html) 함수를 활용하라."
   ]
  },
  {
   "cell_type": "code",
   "execution_count": 360,
   "metadata": {
    "id": "5RxQTE0JG2o_",
    "tags": []
   },
   "outputs": [],
   "source": [
    "def als(\n",
    "    F: np.ndarray,\n",
    "    P: np.ndarray,\n",
    "    Q: np.ndarray,\n",
    "    C: np.ndarray,\n",
    "    K: int,\n",
    "    regularization: float\n",
    ") -> None:\n",
    "    \"\"\"\n",
    "    MF 모델의 파라미터를 업데이트하는 ALS를 구현하자.\n",
    "    \n",
    "    ***********************************************************************************************************\n",
    "    ALS:\n",
    "        1. 모든 유저에 대하여 유저의 잠재 요인 행렬을 업데이트 - 위 수식의 첫번째 줄\n",
    "        2. 모든 아이템에 대하여 아이템의 잠재 요일 행렬 업데이트 - 위 수식의 두번째 줄\n",
    "    ***********************************************************************************************************\n",
    "    \n",
    "    :param F: (np.ndarray) 유저-아이템 preference 매트릭스. shape: (유저 수, 아이템 수)\n",
    "    :param P: (np.ndarray) 유저의 잠재 요인 행렬. shape: (유저 수, 잠재 요인 수)\n",
    "    :param Q: (np.ndarray) 아이템의 잠재 요인 행렬. shape: (아이템 수, 잠재 요인 수)\n",
    "    :param C: (np.ndarray) 평점 테이블에 Confidence Level을 적용한 행렬. shape: (유저 수, 아이템 수)\n",
    "    :param K: (int) 잠재 요인 수\n",
    "    :param regularization: (float) l2 정규화 파라미터\n",
    "    :return: None\n",
    "    \"\"\"\n",
    "    for user_id, F_user in enumerate(F):\n",
    "       \n",
    "        C_u = np.diag(C[user_id])\n",
    "        P[user_id] = np.linalg.solve(Q.T.dot(C_u).dot(Q)+regularization*np.eye(200),np.eye(200)).dot(Q.T).dot(C_u).dot(F_user)\n",
    "#         P[user_id] = np.linalg.solve(Q.T.dot(C_u).dot(Q)+regularization*np.eye(len(Q)),np.eye(len(Q))).dot(Q.T).dot(C_u).dot(F_user)\n",
    "        \n",
    "        # FILL HERE : USE np.linalg.solve()#\n",
    "        \n",
    "    for item_id, F_item in enumerate(F.T):\n",
    "        C_i = np.diag(C[:, item_id])\n",
    "        Q[item_id] = np.linalg.solve(P.T.dot(C_i).dot(P)+regularization*np.eye(200),np.eye(200)).dot(P.T).dot(C_i).dot(F_item)"
   ]
  },
  {
   "cell_type": "markdown",
   "metadata": {
    "id": "ukwC51wdG2o_",
    "tags": []
   },
   "source": [
    "### <font color='#5F71F7'>과제 HOMEWORK (5)</font> \n",
    "### 3.2. ALS의 Loss Function을 계산하는 함수를 구현하라.\n",
    "\n",
    "\n",
    "<p style=\"font-size:20px\">\n",
    "$$\\sum_{observed~f_{u,i}} {c_{u,i}{(f_{u,i} - p_{u}^Tq_{i})}^{2} + \\lambda(\\sum_{u}{||p_u ||}^{2}_{2} + \\sum_{i}{||q_i ||}^{2}_{2})}$$\n",
    "</p>\n",
    "\n",
    "- <font color=\"red\">주의) </font> 실제 평가를 내린 데이터에 대해서만 RMSE를 계산하여야 한다.\n",
    "\n",
    "- <font color=\"blue\">힌트) </font> [<code>numpy.ndarray.nonzero()</code>](https://numpy.org/doc/stable/reference/generated/numpy.ndarray.nonzero.html) 함수를 활용하라."
   ]
  },
  {
   "cell_type": "code",
   "execution_count": 362,
   "metadata": {
    "id": "glM3PYN0G2pA",
    "tags": []
   },
   "outputs": [],
   "source": [
    "def get_ALS_loss(\n",
    "    F: np.ndarray,\n",
    "    P: np.ndarray,\n",
    "    Q: np.ndarray,\n",
    "    C: np.ndarray,\n",
    "    regularization: float\n",
    ") -> float:\n",
    "    \"\"\"\n",
    "    전체 학습 데이터(실제 평가를 내린 데이터)에 대한 ALS의 Loss를 계산하라.\n",
    "    \n",
    "    ***********************************************************************************************************\n",
    "    주의) 실제 평가를 내린 데이터에 대해서만 ALS의 Loss를 계산하여야 한다.\n",
    "    ***********************************************************************************************************\n",
    "    \n",
    "    :param F: (np.ndarray) 유저-아이템 preference 매트릭스. shape: (유저 수, 아이템 수)\n",
    "    :param P: (np.ndarray) 유저의 잠재 요인 행렬. shape: (유저 수, 잠재 요인 수)\n",
    "    :param Q: (np.ndarray) 아이템의 잠재 요인 행렬. shape: (아이템 수, 잠재 요인 수)\n",
    "    :param C: (np.ndarray) 평점 테이블에 Confidence Level을 적용한 행렬. shape: (유저 수, 아이템 수)\n",
    "    :param regularization: (float) l2 정규화 파라미터\n",
    "    :return: (float) 전체 학습 데이터에 대한 Loss\n",
    "    \"\"\"\n",
    "    \n",
    "    user_index, item_index = F.nonzero()\n",
    "    loss = 0\n",
    "    for user_id, item_id in zip(user_index, item_index):\n",
    "        predict_error = F[user_id][item_id]-P[user_id].T.dot(Q[item_id])\n",
    "        confidence_error = C[user_id][item_id]*(predict_error**2)\n",
    "        loss += confidence_error\n",
    "    for user_id in range(F.shape[0]):\n",
    "        regularization_term = regularization * (np.linalg.norm(P[user_id],2) ** 2)\n",
    "        loss += regularization_term\n",
    "    for item_id in range(F.shape[1]):\n",
    "        regularization_term = regularization * (np.linalg.norm(Q[item_id],2) ** 2)\n",
    "        loss += regularization_term\n",
    "\n",
    "    return loss\n",
    "    "
   ]
  },
  {
   "cell_type": "markdown",
   "metadata": {
    "id": "9Sihplu4jyk1",
    "tags": []
   },
   "source": [
    "### 3.3. ALS 기반 MF 구현\n",
    "\n",
    "- 3.1 ~ 3.2에서 구현한 함수들을 활용하여 ALS로 업데이트하는 MF를 구현하고, 이를 바탕으로 MovieLens 데이터로 학습해본다."
   ]
  },
  {
   "cell_type": "code",
   "execution_count": 363,
   "metadata": {
    "id": "4_IgQbVUG2pA",
    "tags": []
   },
   "outputs": [],
   "source": [
    "class MF_ALS(object):\n",
    "    \n",
    "    def __init__(self, F, K, C, regularization, epochs, verbose=False):\n",
    "        self.F = F\n",
    "        self.num_users, self.num_items = F.shape\n",
    "        self.K = K\n",
    "        self.C = C\n",
    "        self.regularization = regularization\n",
    "        self.epochs = epochs\n",
    "        self.verbose = verbose\n",
    "        \n",
    "        self.training_process = list()\n",
    "    \n",
    "    def train(self):\n",
    "        \n",
    "        # 유저, 아이템 잠재 요인 행렬 초기화\n",
    "        self.P = np.random.normal(scale=1./self.K, size=(self.num_users, self.K))\n",
    "        self.Q = np.random.normal(scale=1./self.K, size=(self.num_items, self.K))\n",
    "        \n",
    "        for epoch in range(1, self.epochs + 1):\n",
    "            als(self.F, self.P, self.Q, self.C, self.K, self.regularization)\n",
    "            loss = get_ALS_loss(self.F, self.P, self.Q, self.C, self.regularization)\n",
    "            self.training_process.append((epoch, loss))\n",
    "            if self.verbose and (epoch % 10 == 0):\n",
    "                print(\"epoch: %d, error = %.4f\" % (epoch, loss))\n",
    "        \n",
    "        self.training_process = pd.DataFrame(self.training_process, columns = ['epoch', 'rmse'])\n",
    "    \n",
    "    def get_predicted_full_matrix(self):\n",
    "        return get_predicted_full_matrix(self.P, self.Q)"
   ]
  },
  {
   "cell_type": "markdown",
   "metadata": {
    "id": "b21ccb19"
   },
   "source": [
    "---"
   ]
  },
  {
   "cell_type": "markdown",
   "metadata": {
    "id": "620f2d2a",
    "tags": []
   },
   "source": [
    "## 4. ALS 기반 MF 모델 실습"
   ]
  },
  {
   "cell_type": "markdown",
   "metadata": {
    "id": "O7q2df1kG2pA",
    "tags": []
   },
   "source": [
    "### 4.1. MovieLens 데이터의 일부를 Implicit Feedback 데이터로 변환"
   ]
  },
  {
   "cell_type": "code",
   "execution_count": 364,
   "metadata": {
    "id": "Upr3l6JYG2pB",
    "tags": []
   },
   "outputs": [],
   "source": [
    "user_item_matrix = ratings_df.pivot_table('rating', 'userId', 'movieId').fillna(0)"
   ]
  },
  {
   "cell_type": "code",
   "execution_count": 365,
   "metadata": {
    "id": "IgqAZHOwG2pB",
    "tags": []
   },
   "outputs": [],
   "source": [
    "user_num = int(user_item_matrix.shape[0] / 10)\n",
    "movie_num = int(user_item_matrix.shape[1] / 10)\n",
    "preference_matrix = np.copy(user_item_matrix.iloc[:user_num,:movie_num])\n",
    "preference_matrix[preference_matrix > 0] = 1"
   ]
  },
  {
   "cell_type": "markdown",
   "metadata": {
    "id": "5OfR-KQNG2pB",
    "tags": []
   },
   "source": [
    "### 4.2. 신뢰도 행렬 $C$, 잠재 요인 수, l2 정규화 파라미터 설정"
   ]
  },
  {
   "cell_type": "code",
   "execution_count": 366,
   "metadata": {
    "id": "Rmk4ZqMNG2pB",
    "tags": []
   },
   "outputs": [],
   "source": [
    "alpha = 40\n",
    "# 신뢰도 행렬\n",
    "C = 1 + alpha * np.copy(preference_matrix)\n",
    "# 잠재 요인 수\n",
    "K = 200\n",
    "\n",
    "# l2 정규화 파라미터\n",
    "regularization = 40\n",
    "\n",
    "# 총 epoch 수\n",
    "epochs = 500\n",
    "\n",
    "# 학습 과정의 status print 옵션\n",
    "verbose = True"
   ]
  },
  {
   "cell_type": "markdown",
   "metadata": {
    "id": "DOrIo6HWjyk3"
   },
   "source": [
    "### 4.3. 모델 학습하기"
   ]
  },
  {
   "cell_type": "code",
   "execution_count": 367,
   "metadata": {
    "id": "Dax3vtJ0G2pB",
    "scrolled": true
   },
   "outputs": [
    {
     "name": "stdout",
     "output_type": "stream",
     "text": [
      "epoch: 10, error = 18654.5213\n",
      "epoch: 20, error = 18325.9917\n",
      "epoch: 30, error = 18305.9998\n",
      "epoch: 40, error = 18302.9867\n",
      "epoch: 50, error = 18302.1120\n",
      "epoch: 60, error = 18301.7035\n",
      "epoch: 70, error = 18301.4633\n",
      "epoch: 80, error = 18301.3063\n",
      "epoch: 90, error = 18301.1974\n",
      "epoch: 100, error = 18301.1186\n",
      "epoch: 110, error = 18301.0597\n",
      "epoch: 120, error = 18301.0144\n",
      "epoch: 130, error = 18300.9786\n",
      "epoch: 140, error = 18300.9498\n",
      "epoch: 150, error = 18300.9262\n",
      "epoch: 160, error = 18300.9064\n",
      "epoch: 170, error = 18300.8896\n",
      "epoch: 180, error = 18300.8751\n",
      "epoch: 190, error = 18300.8626\n",
      "epoch: 200, error = 18300.8515\n",
      "epoch: 210, error = 18300.8417\n",
      "epoch: 220, error = 18300.8330\n",
      "epoch: 230, error = 18300.8251\n",
      "epoch: 240, error = 18300.8180\n",
      "epoch: 250, error = 18300.8116\n",
      "epoch: 260, error = 18300.8057\n",
      "epoch: 270, error = 18300.8003\n",
      "epoch: 280, error = 18300.7954\n",
      "epoch: 290, error = 18300.7909\n",
      "epoch: 300, error = 18300.7867\n",
      "epoch: 310, error = 18300.7828\n",
      "epoch: 320, error = 18300.7793\n",
      "epoch: 330, error = 18300.7759\n",
      "epoch: 340, error = 18300.7729\n",
      "epoch: 350, error = 18300.7700\n",
      "epoch: 360, error = 18300.7673\n",
      "epoch: 370, error = 18300.7648\n",
      "epoch: 380, error = 18300.7625\n",
      "epoch: 390, error = 18300.7603\n",
      "epoch: 400, error = 18300.7583\n",
      "epoch: 410, error = 18300.7564\n",
      "epoch: 420, error = 18300.7546\n",
      "epoch: 430, error = 18300.7530\n",
      "epoch: 440, error = 18300.7514\n",
      "epoch: 450, error = 18300.7499\n",
      "epoch: 460, error = 18300.7485\n",
      "epoch: 470, error = 18300.7472\n",
      "epoch: 480, error = 18300.7460\n",
      "epoch: 490, error = 18300.7448\n",
      "epoch: 500, error = 18300.7437\n"
     ]
    }
   ],
   "source": [
    "mf_als = MF_ALS(preference_matrix, K, C, regularization, epochs, verbose)\n",
    "mf_als.train()"
   ]
  },
  {
   "cell_type": "markdown",
   "metadata": {
    "id": "K6ywVbZvG2pC"
   },
   "source": [
    "### 4.4. epoch에 따른 training error (RMSE) 결과 도식화\n",
    "\n",
    "- 아래와 동일한 결과가 나와야 함"
   ]
  },
  {
   "cell_type": "markdown",
   "metadata": {
    "id": "colzLhKuUUuq"
   },
   "source": [
    "![ALS_train_small_result.png](data:image/png;base64,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)"
   ]
  },
  {
   "cell_type": "code",
   "execution_count": 368,
   "metadata": {
    "id": "6wYDq1RVG2pC"
   },
   "outputs": [
    {
     "data": {
      "image/png": "[encoded data removed]",
      "text/plain": [
       "<Figure size 432x288 with 1 Axes>"
      ]
     },
     "metadata": {
      "needs_background": "light"
     },
     "output_type": "display_data"
    }
   ],
   "source": [
    "train_result_df = mf_als.training_process\n",
    "\n",
    "x = train_result_df.epoch.values\n",
    "y = train_result_df.rmse.values\n",
    "plt.plot(x, y)\n",
    "plt.xlabel(\"epoch\")\n",
    "plt.ylabel(\"ALS Loss\")\n",
    "plt.grid(axis=\"y\")\n",
    "plt.show()"
   ]
  },
  {
   "cell_type": "markdown",
   "metadata": {
    "id": "xmB77ArVjyk5"
   },
   "source": [
    "### 4.4. 기존 일부 유저-아이템 rating 매트릭스\n"
   ]
  },
  {
   "cell_type": "markdown",
   "metadata": {
    "id": "W-QF9wKLUnii"
   },
   "source": [
    "![user_item_small_preference.PNG](data:image/png;base64,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)"
   ]
  },
  {
   "cell_type": "markdown",
   "metadata": {
    "id": "d3Ztt-Dwjyk5"
   },
   "source": [
    "### 4.5.  예측된 유저-아이템 preference 매트릭스\n",
    "\n",
    "- 아래와 동일한 결과가 나와야 함"
   ]
  },
  {
   "cell_type": "markdown",
   "metadata": {
    "id": "2wdq6yhhUrJa"
   },
   "source": [
    "![ALS_expected_user_item_small_preference.PNG](data:image/png;base64,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)"
   ]
  },
  {
   "cell_type": "code",
   "execution_count": 369,
   "metadata": {
    "id": "aE-e9qCoG2pD"
   },
   "outputs": [
    {
     "data": {
      "text/html": [
       "<div>\n",
       "<style scoped>\n",
       "    .dataframe tbody tr th:only-of-type {\n",
       "        vertical-align: middle;\n",
       "    }\n",
       "\n",
       "    .dataframe tbody tr th {\n",
       "        vertical-align: top;\n",
       "    }\n",
       "\n",
       "    .dataframe thead th {\n",
       "        text-align: right;\n",
       "    }\n",
       "</style>\n",
       "<table border=\"1\" class=\"dataframe\">\n",
       "  <thead>\n",
       "    <tr style=\"text-align: right;\">\n",
       "      <th>movieId</th>\n",
       "      <th>1</th>\n",
       "      <th>2</th>\n",
       "      <th>3</th>\n",
       "      <th>4</th>\n",
       "      <th>5</th>\n",
       "      <th>6</th>\n",
       "      <th>7</th>\n",
       "      <th>8</th>\n",
       "      <th>9</th>\n",
       "      <th>10</th>\n",
       "      <th>...</th>\n",
       "      <th>1264</th>\n",
       "      <th>1265</th>\n",
       "      <th>1266</th>\n",
       "      <th>1267</th>\n",
       "      <th>1268</th>\n",
       "      <th>1269</th>\n",
       "      <th>1270</th>\n",
       "      <th>1271</th>\n",
       "      <th>1272</th>\n",
       "      <th>1273</th>\n",
       "    </tr>\n",
       "    <tr>\n",
       "      <th>userId</th>\n",
       "      <th></th>\n",
       "      <th></th>\n",
       "      <th></th>\n",
       "      <th></th>\n",
       "      <th></th>\n",
       "      <th></th>\n",
       "      <th></th>\n",
       "      <th></th>\n",
       "      <th></th>\n",
       "      <th></th>\n",
       "      <th></th>\n",
       "      <th></th>\n",
       "      <th></th>\n",
       "      <th></th>\n",
       "      <th></th>\n",
       "      <th></th>\n",
       "      <th></th>\n",
       "      <th></th>\n",
       "      <th></th>\n",
       "      <th></th>\n",
       "      <th></th>\n",
       "    </tr>\n",
       "  </thead>\n",
       "  <tbody>\n",
       "    <tr>\n",
       "      <th>1</th>\n",
       "      <td>0.933895</td>\n",
       "      <td>0.507474</td>\n",
       "      <td>0.877592</td>\n",
       "      <td>0.014815</td>\n",
       "      <td>0.349507</td>\n",
       "      <td>0.925093</td>\n",
       "      <td>0.445545</td>\n",
       "      <td>0.217556</td>\n",
       "      <td>0.0</td>\n",
       "      <td>0.486605</td>\n",
       "      <td>...</td>\n",
       "      <td>0.0</td>\n",
       "      <td>0.946707</td>\n",
       "      <td>0.341692</td>\n",
       "      <td>0.306630</td>\n",
       "      <td>0.205368</td>\n",
       "      <td>0.324559</td>\n",
       "      <td>0.986604</td>\n",
       "      <td>0.181226</td>\n",
       "      <td>0.193462</td>\n",
       "      <td>0.103790</td>\n",
       "    </tr>\n",
       "    <tr>\n",
       "      <th>2</th>\n",
       "      <td>0.171032</td>\n",
       "      <td>0.081092</td>\n",
       "      <td>0.139171</td>\n",
       "      <td>0.058645</td>\n",
       "      <td>0.097876</td>\n",
       "      <td>0.131902</td>\n",
       "      <td>0.126559</td>\n",
       "      <td>0.030273</td>\n",
       "      <td>0.0</td>\n",
       "      <td>0.193260</td>\n",
       "      <td>...</td>\n",
       "      <td>0.0</td>\n",
       "      <td>0.110661</td>\n",
       "      <td>-0.035772</td>\n",
       "      <td>0.060372</td>\n",
       "      <td>-0.024727</td>\n",
       "      <td>0.000958</td>\n",
       "      <td>0.055200</td>\n",
       "      <td>0.005632</td>\n",
       "      <td>0.081579</td>\n",
       "      <td>0.022423</td>\n",
       "    </tr>\n",
       "    <tr>\n",
       "      <th>3</th>\n",
       "      <td>0.247909</td>\n",
       "      <td>0.141110</td>\n",
       "      <td>0.132682</td>\n",
       "      <td>0.041583</td>\n",
       "      <td>-0.044033</td>\n",
       "      <td>-0.080621</td>\n",
       "      <td>0.101044</td>\n",
       "      <td>0.080291</td>\n",
       "      <td>0.0</td>\n",
       "      <td>-0.019365</td>\n",
       "      <td>...</td>\n",
       "      <td>0.0</td>\n",
       "      <td>0.085954</td>\n",
       "      <td>0.125871</td>\n",
       "      <td>0.215730</td>\n",
       "      <td>0.036354</td>\n",
       "      <td>0.165880</td>\n",
       "      <td>0.272655</td>\n",
       "      <td>0.125437</td>\n",
       "      <td>0.739039</td>\n",
       "      <td>0.169320</td>\n",
       "    </tr>\n",
       "    <tr>\n",
       "      <th>4</th>\n",
       "      <td>0.599564</td>\n",
       "      <td>0.244641</td>\n",
       "      <td>0.339345</td>\n",
       "      <td>0.195892</td>\n",
       "      <td>0.249400</td>\n",
       "      <td>0.422057</td>\n",
       "      <td>0.538652</td>\n",
       "      <td>0.125720</td>\n",
       "      <td>0.0</td>\n",
       "      <td>0.115406</td>\n",
       "      <td>...</td>\n",
       "      <td>0.0</td>\n",
       "      <td>0.964117</td>\n",
       "      <td>0.892449</td>\n",
       "      <td>0.353922</td>\n",
       "      <td>0.197878</td>\n",
       "      <td>0.328940</td>\n",
       "      <td>0.497254</td>\n",
       "      <td>0.320193</td>\n",
       "      <td>0.123395</td>\n",
       "      <td>0.182651</td>\n",
       "    </tr>\n",
       "    <tr>\n",
       "      <th>5</th>\n",
       "      <td>0.922024</td>\n",
       "      <td>0.444056</td>\n",
       "      <td>0.332695</td>\n",
       "      <td>0.217785</td>\n",
       "      <td>0.255549</td>\n",
       "      <td>0.481228</td>\n",
       "      <td>0.433301</td>\n",
       "      <td>0.239633</td>\n",
       "      <td>0.0</td>\n",
       "      <td>0.599023</td>\n",
       "      <td>...</td>\n",
       "      <td>0.0</td>\n",
       "      <td>0.494400</td>\n",
       "      <td>0.224839</td>\n",
       "      <td>0.041109</td>\n",
       "      <td>0.101012</td>\n",
       "      <td>0.026739</td>\n",
       "      <td>0.161465</td>\n",
       "      <td>0.310196</td>\n",
       "      <td>0.077717</td>\n",
       "      <td>0.084581</td>\n",
       "    </tr>\n",
       "    <tr>\n",
       "      <th>...</th>\n",
       "      <td>...</td>\n",
       "      <td>...</td>\n",
       "      <td>...</td>\n",
       "      <td>...</td>\n",
       "      <td>...</td>\n",
       "      <td>...</td>\n",
       "      <td>...</td>\n",
       "      <td>...</td>\n",
       "      <td>...</td>\n",
       "      <td>...</td>\n",
       "      <td>...</td>\n",
       "      <td>...</td>\n",
       "      <td>...</td>\n",
       "      <td>...</td>\n",
       "      <td>...</td>\n",
       "      <td>...</td>\n",
       "      <td>...</td>\n",
       "      <td>...</td>\n",
       "      <td>...</td>\n",
       "      <td>...</td>\n",
       "      <td>...</td>\n",
       "    </tr>\n",
       "    <tr>\n",
       "      <th>57</th>\n",
       "      <td>1.029149</td>\n",
       "      <td>0.673955</td>\n",
       "      <td>0.712621</td>\n",
       "      <td>0.029784</td>\n",
       "      <td>0.265377</td>\n",
       "      <td>1.017868</td>\n",
       "      <td>0.530599</td>\n",
       "      <td>0.294614</td>\n",
       "      <td>0.0</td>\n",
       "      <td>0.960598</td>\n",
       "      <td>...</td>\n",
       "      <td>0.0</td>\n",
       "      <td>0.972808</td>\n",
       "      <td>0.958062</td>\n",
       "      <td>0.372782</td>\n",
       "      <td>0.864738</td>\n",
       "      <td>0.928658</td>\n",
       "      <td>0.979270</td>\n",
       "      <td>0.264285</td>\n",
       "      <td>0.304900</td>\n",
       "      <td>0.264621</td>\n",
       "    </tr>\n",
       "    <tr>\n",
       "      <th>58</th>\n",
       "      <td>0.882857</td>\n",
       "      <td>0.604433</td>\n",
       "      <td>0.910614</td>\n",
       "      <td>0.520374</td>\n",
       "      <td>0.862706</td>\n",
       "      <td>0.602922</td>\n",
       "      <td>0.979826</td>\n",
       "      <td>0.389597</td>\n",
       "      <td>0.0</td>\n",
       "      <td>0.789246</td>\n",
       "      <td>...</td>\n",
       "      <td>0.0</td>\n",
       "      <td>0.763114</td>\n",
       "      <td>0.292645</td>\n",
       "      <td>0.059274</td>\n",
       "      <td>0.034126</td>\n",
       "      <td>0.082100</td>\n",
       "      <td>0.450132</td>\n",
       "      <td>0.277403</td>\n",
       "      <td>0.104232</td>\n",
       "      <td>-0.057395</td>\n",
       "    </tr>\n",
       "    <tr>\n",
       "      <th>59</th>\n",
       "      <td>0.670494</td>\n",
       "      <td>0.410806</td>\n",
       "      <td>0.245810</td>\n",
       "      <td>0.150000</td>\n",
       "      <td>0.064659</td>\n",
       "      <td>0.556708</td>\n",
       "      <td>0.315320</td>\n",
       "      <td>-0.013278</td>\n",
       "      <td>0.0</td>\n",
       "      <td>0.868676</td>\n",
       "      <td>...</td>\n",
       "      <td>0.0</td>\n",
       "      <td>0.531311</td>\n",
       "      <td>0.400236</td>\n",
       "      <td>0.458386</td>\n",
       "      <td>0.159306</td>\n",
       "      <td>0.800586</td>\n",
       "      <td>0.957238</td>\n",
       "      <td>0.117317</td>\n",
       "      <td>0.523431</td>\n",
       "      <td>0.269581</td>\n",
       "    </tr>\n",
       "    <tr>\n",
       "      <th>60</th>\n",
       "      <td>0.428262</td>\n",
       "      <td>0.308498</td>\n",
       "      <td>0.223330</td>\n",
       "      <td>0.098829</td>\n",
       "      <td>0.289099</td>\n",
       "      <td>0.206520</td>\n",
       "      <td>0.305586</td>\n",
       "      <td>0.215357</td>\n",
       "      <td>0.0</td>\n",
       "      <td>0.084684</td>\n",
       "      <td>...</td>\n",
       "      <td>0.0</td>\n",
       "      <td>0.403628</td>\n",
       "      <td>0.092017</td>\n",
       "      <td>0.149161</td>\n",
       "      <td>0.017966</td>\n",
       "      <td>0.039990</td>\n",
       "      <td>0.338031</td>\n",
       "      <td>0.068480</td>\n",
       "      <td>0.290094</td>\n",
       "      <td>0.135485</td>\n",
       "    </tr>\n",
       "    <tr>\n",
       "      <th>61</th>\n",
       "      <td>0.544201</td>\n",
       "      <td>0.284081</td>\n",
       "      <td>0.181906</td>\n",
       "      <td>0.070332</td>\n",
       "      <td>0.094002</td>\n",
       "      <td>0.521402</td>\n",
       "      <td>0.184478</td>\n",
       "      <td>-0.064540</td>\n",
       "      <td>0.0</td>\n",
       "      <td>0.319357</td>\n",
       "      <td>...</td>\n",
       "      <td>0.0</td>\n",
       "      <td>0.400236</td>\n",
       "      <td>0.370245</td>\n",
       "      <td>0.297040</td>\n",
       "      <td>-0.013330</td>\n",
       "      <td>0.069836</td>\n",
       "      <td>0.411519</td>\n",
       "      <td>0.177406</td>\n",
       "      <td>0.208261</td>\n",
       "      <td>0.230488</td>\n",
       "    </tr>\n",
       "  </tbody>\n",
       "</table>\n",
       "<p>61 rows × 972 columns</p>\n",
       "</div>"
      ],
      "text/plain": [
       "movieId      1         2         3         4         5         6         7     \\\n",
       "userId                                                                          \n",
       "1        0.933895  0.507474  0.877592  0.014815  0.349507  0.925093  0.445545   \n",
       "2        0.171032  0.081092  0.139171  0.058645  0.097876  0.131902  0.126559   \n",
       "3        0.247909  0.141110  0.132682  0.041583 -0.044033 -0.080621  0.101044   \n",
       "4        0.599564  0.244641  0.339345  0.195892  0.249400  0.422057  0.538652   \n",
       "5        0.922024  0.444056  0.332695  0.217785  0.255549  0.481228  0.433301   \n",
       "...           ...       ...       ...       ...       ...       ...       ...   \n",
       "57       1.029149  0.673955  0.712621  0.029784  0.265377  1.017868  0.530599   \n",
       "58       0.882857  0.604433  0.910614  0.520374  0.862706  0.602922  0.979826   \n",
       "59       0.670494  0.410806  0.245810  0.150000  0.064659  0.556708  0.315320   \n",
       "60       0.428262  0.308498  0.223330  0.098829  0.289099  0.206520  0.305586   \n",
       "61       0.544201  0.284081  0.181906  0.070332  0.094002  0.521402  0.184478   \n",
       "\n",
       "movieId      8     9         10    ...  1264      1265      1266      1267  \\\n",
       "userId                             ...                                       \n",
       "1        0.217556   0.0  0.486605  ...   0.0  0.946707  0.341692  0.306630   \n",
       "2        0.030273   0.0  0.193260  ...   0.0  0.110661 -0.035772  0.060372   \n",
       "3        0.080291   0.0 -0.019365  ...   0.0  0.085954  0.125871  0.215730   \n",
       "4        0.125720   0.0  0.115406  ...   0.0  0.964117  0.892449  0.353922   \n",
       "5        0.239633   0.0  0.599023  ...   0.0  0.494400  0.224839  0.041109   \n",
       "...           ...   ...       ...  ...   ...       ...       ...       ...   \n",
       "57       0.294614   0.0  0.960598  ...   0.0  0.972808  0.958062  0.372782   \n",
       "58       0.389597   0.0  0.789246  ...   0.0  0.763114  0.292645  0.059274   \n",
       "59      -0.013278   0.0  0.868676  ...   0.0  0.531311  0.400236  0.458386   \n",
       "60       0.215357   0.0  0.084684  ...   0.0  0.403628  0.092017  0.149161   \n",
       "61      -0.064540   0.0  0.319357  ...   0.0  0.400236  0.370245  0.297040   \n",
       "\n",
       "movieId      1268      1269      1270      1271      1272      1273  \n",
       "userId                                                               \n",
       "1        0.205368  0.324559  0.986604  0.181226  0.193462  0.103790  \n",
       "2       -0.024727  0.000958  0.055200  0.005632  0.081579  0.022423  \n",
       "3        0.036354  0.165880  0.272655  0.125437  0.739039  0.169320  \n",
       "4        0.197878  0.328940  0.497254  0.320193  0.123395  0.182651  \n",
       "5        0.101012  0.026739  0.161465  0.310196  0.077717  0.084581  \n",
       "...           ...       ...       ...       ...       ...       ...  \n",
       "57       0.864738  0.928658  0.979270  0.264285  0.304900  0.264621  \n",
       "58       0.034126  0.082100  0.450132  0.277403  0.104232 -0.057395  \n",
       "59       0.159306  0.800586  0.957238  0.117317  0.523431  0.269581  \n",
       "60       0.017966  0.039990  0.338031  0.068480  0.290094  0.135485  \n",
       "61      -0.013330  0.069836  0.411519  0.177406  0.208261  0.230488  \n",
       "\n",
       "[61 rows x 972 columns]"
      ]
     },
     "execution_count": 369,
     "metadata": {},
     "output_type": "execute_result"
    }
   ],
   "source": [
    "predicted_user_item_preference = pd.DataFrame(mf_als.get_predicted_full_matrix(), columns=user_item_matrix.iloc[:user_num,:movie_num].columns, index=user_item_matrix.iloc[:user_num,:movie_num].index)\n",
    "\n",
    "predicted_user_item_preference"
   ]
  },
  {
   "cell_type": "code",
   "execution_count": null,
   "metadata": {},
   "outputs": [],
   "source": []
  }
 ],
 "metadata": {
  "accelerator": "GPU",
  "colab": {
   "collapsed_sections": [],
   "name": "기본과제-1_MF+ALS (problem).ipynb의 사본",
   "provenance": []
  },
  "kernelspec": {
   "display_name": "Python 3 (ipykernel)",
   "language": "python",
   "name": "python3"
  },
  "language_info": {
   "codemirror_mode": {
    "name": "ipython",
    "version": 3
   },
   "file_extension": ".py",
   "mimetype": "text/x-python",
   "name": "python",
   "nbconvert_exporter": "python",
   "pygments_lexer": "ipython3",
   "version": "3.8.5"
  }
 },
 "nbformat": 4,
 "nbformat_minor": 4
}
