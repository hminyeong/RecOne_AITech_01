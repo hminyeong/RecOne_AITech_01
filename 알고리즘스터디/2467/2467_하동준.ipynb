{
 "cells": [
  {
   "cell_type": "code",
   "execution_count": 21,
   "id": "cd0b8535",
   "metadata": {},
   "outputs": [
    {
     "name": "stdout",
     "output_type": "stream",
     "text": [
      "5\n",
      "-99 -2 -1 4 98\n"
     ]
    }
   ],
   "source": [
    "N = int(input())\n",
    "llist = list(map(int, input().split()))\n",
    "\n"
   ]
  },
  {
   "cell_type": "code",
   "execution_count": 22,
   "id": "01727f4b",
   "metadata": {},
   "outputs": [],
   "source": [
    "l = 0\n",
    "r = N - 1"
   ]
  },
  {
   "cell_type": "code",
   "execution_count": 23,
   "id": "7fa7ec54",
   "metadata": {},
   "outputs": [],
   "source": [
    "two = [llist[l],llist[r]]\n",
    "min_abs_sum = abs(llist[l] + llist[r])"
   ]
  },
  {
   "cell_type": "code",
   "execution_count": 24,
   "id": "6d7c6321",
   "metadata": {},
   "outputs": [
    {
     "name": "stdout",
     "output_type": "stream",
     "text": [
      "-99 98\n"
     ]
    }
   ],
   "source": [
    "llist.sort()\n",
    "# sort\n",
    "while(l < r):\n",
    "    temp_sum = llist[l]+llist[r]\n",
    "    \n",
    "    if(abs(temp_sum) < min_abs_sum):\n",
    "        min_abs_sum = abs(llist[l] + llist[r])\n",
    "        two[0] = llist[l]\n",
    "        two[1] = llist[r]\n",
    "        \n",
    "    if(temp_sum < 0):\n",
    "        l += 1\n",
    "    else:\n",
    "        r -= 1\n",
    "\n",
    "print(two[0], two[1])\n",
    "        "
   ]
  },
  {
   "cell_type": "code",
   "execution_count": null,
   "id": "90cfadf7",
   "metadata": {},
   "outputs": [],
   "source": []
  }
 ],
 "metadata": {
  "kernelspec": {
   "display_name": "Python 3",
   "language": "python",
   "name": "python3"
  },
  "language_info": {
   "codemirror_mode": {
    "name": "ipython",
    "version": 3
   },
   "file_extension": ".py",
   "mimetype": "text/x-python",
   "name": "python",
   "nbconvert_exporter": "python",
   "pygments_lexer": "ipython3",
   "version": "3.8.8"
  }
 },
 "nbformat": 4,
 "nbformat_minor": 5
}
